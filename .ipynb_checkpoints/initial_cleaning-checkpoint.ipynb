{
 "cells": [
  {
   "cell_type": "code",
   "execution_count": null,
   "id": "c7ef4bf7",
   "metadata": {},
   "outputs": [],
   "source": [
    "import pandas as pd\n",
    "import numpy as np\n",
    "import xml.etree.ElementTree as ET\n",
    "import os\n",
    "import reframed"
   ]
  },
  {
   "cell_type": "markdown",
   "id": "3fc3c24e",
   "metadata": {},
   "source": [
    "## Downloading XML Files and Storing All Model Data"
   ]
  },
  {
   "cell_type": "code",
   "execution_count": null,
   "id": "9682e4b6-988d-448b-a6b5-78082e8c3223",
   "metadata": {},
   "outputs": [],
   "source": [
    "import subprocess\n",
    "#curl 'http://bigg.ucsd.edu/api/v2/models/iND750/download'\n",
    "result = subprocess.run(\n",
    "    [\"curl\", \"http://bigg.ucsd.edu/api/v2/models\"],\n",
    "    stdout=subprocess.PIPE,\n",
    "    check=True\n",
    ")\n",
    "output = result.stdout.decode(\"utf-8\")\n",
    "print(output)"
   ]
  },
  {
   "cell_type": "code",
   "execution_count": null,
   "id": "ea5e588d-1457-4a20-a8c6-c6aae1081883",
   "metadata": {},
   "outputs": [],
   "source": [
    "import json\n",
    "\n",
    "data = json.loads(output)\n",
    "bigg_ids = [item['bigg_id'] for item in data['results']]\n",
    "print(bigg_ids)\n",
    "print(len(bigg_ids))"
   ]
  },
  {
   "cell_type": "code",
   "execution_count": null,
   "id": "dea73226-7cc4-4800-a810-6ece42f88eb7",
   "metadata": {},
   "outputs": [],
   "source": [
    "# read in all models and get outputs\n",
    "current_dir = os.getcwd()\n",
    "\n",
    "for model_id in bigg_ids:\n",
    "    result = subprocess.run(\n",
    "        [\"curl\", f\"http://bigg.ucsd.edu/static/models/{model_id}.xml\"],\n",
    "        stdout=subprocess.PIPE,\n",
    "        check=True\n",
    "    )\n",
    "    xml_output = result.stdout.decode(\"utf-8\")\n",
    "#     file_path = os.path.join(current_dir, f\"{model_id}.xml\")  # commented out so it doesn't download all files to repo again\n",
    "#     with open(file_path, \"w\", encoding=\"utf-8\") as f:\n",
    "#         f.write(xml_output)\n",
    "#     print(f\"Saved output to {file_path}\")"
   ]
  },
  {
   "cell_type": "code",
   "execution_count": null,
   "id": "95679f79",
   "metadata": {},
   "outputs": [],
   "source": [
    "import reframed\n",
    "import pandas as pd"
   ]
  },
  {
   "cell_type": "code",
   "execution_count": null,
   "id": "5a8b5fa6",
   "metadata": {},
   "outputs": [],
   "source": [
    "# get list of all xml files from \"models\" folder in repo\n",
    "xml_files = [f for f in os.listdir(current_dir + '/models')]"
   ]
  },
  {
   "cell_type": "code",
   "execution_count": null,
   "id": "25b65034",
   "metadata": {},
   "outputs": [],
   "source": [
    "# create dictionary for {model_id: model data}\n",
    "models = {}\n",
    "for model_id in bigg_ids:\n",
    "    model = reframed.load_cbmodel(f\"{current_dir}/models/{model_id}.xml\")\n",
    "    models[model_id] = model"
   ]
  },
  {
   "cell_type": "code",
   "execution_count": null,
   "id": "b8173f66",
   "metadata": {},
   "outputs": [],
   "source": [
    "models"
   ]
  },
  {
   "cell_type": "code",
   "execution_count": null,
   "id": "73feddc9",
   "metadata": {},
   "outputs": [],
   "source": [
    "# models = {}\n",
    "# for model_id in bigg_ids:\n",
    "#     try:\n",
    "#         model = reframed.load_cbmodel(f\"{model_id}.xml\")\n",
    "#         models[model_id] = model\n",
    "#     except:\n",
    "#         print(f\"{model_id} is not well formed\")"
   ]
  },
  {
   "cell_type": "code",
   "execution_count": null,
   "id": "036d9fe1",
   "metadata": {},
   "outputs": [],
   "source": []
  },
  {
   "cell_type": "code",
   "execution_count": null,
   "id": "6ee9e43d-feb2-4765-8714-b35d1df0290d",
   "metadata": {},
   "outputs": [],
   "source": [
    "print(type(model))"
   ]
  },
  {
   "cell_type": "code",
   "execution_count": null,
   "id": "3610853e",
   "metadata": {},
   "outputs": [],
   "source": [
    "# getting data from e_coli_core.xml model\n",
    "ecoli_model = models['e_coli_core']"
   ]
  },
  {
   "cell_type": "code",
   "execution_count": null,
   "id": "da989141",
   "metadata": {},
   "outputs": [],
   "source": [
    "# define function to parse through model data and turn into dfs, then store dfs in dictionary\n",
    "\n",
    "def get_model_data(model):\n",
    "    '''\n",
    "    Given a model, the function returns a tuple of dataframes of reactions, metabolites, and genes\n",
    "    '''\n",
    "    # get reactions \n",
    "    reactions_data = []\n",
    "    for rxn in test_model.reactions.values():\n",
    "        reactions_data.append({\n",
    "            'id': rxn.id,\n",
    "            'name': getattr(rxn, 'name', ''),\n",
    "            'lower_bound': getattr(rxn, 'lower_bound', None),\n",
    "            'upper_bound': getattr(rxn, 'upper_bound', None),\n",
    "            'stoichiometry': getattr(rxn, 'stoichiometry', {}),  # typically a dict mapping metabolite IDs to coefficients\n",
    "            'objective_coefficient': getattr(rxn, 'objective_coefficient', 0)\n",
    "        })\n",
    "\n",
    "    # get metabolites \n",
    "    metabolites_data = []\n",
    "    for met in test_model.metabolites.values():\n",
    "        metabolites_data.append({\n",
    "            'id': met.id,\n",
    "            'name': getattr(met, 'name', ''),\n",
    "            'formula': getattr(met, 'formula', None),\n",
    "            'charge': getattr(met, 'charge', None)\n",
    "        })\n",
    "\n",
    "    # get genes\n",
    "    genes_data = []\n",
    "    for gene in test_model.genes.values():\n",
    "\n",
    "        associated_reactions = getattr(gene, 'reactions', [])\n",
    "        genes_data.append({\n",
    "            'id': gene.id,\n",
    "            'name': getattr(gene, 'name', ''),\n",
    "            'associated_reactions': associated_reactions  \n",
    "        })\n",
    "    \n",
    "    # turn data for all three categories (reactions, metabolites, genes) into dataframes, then store in list\n",
    "    df_reactions = pd.DataFrame(reactions_data)\n",
    "    df_metabolites = pd.DataFrame(metabolites_data)\n",
    "    df_genes = pd.DataFrame(genes_data)\n",
    "    df_list = [df_reactions, df_metabolites, df_genes]\n",
    "    \n",
    "    # store dataframes into dictionary with data category name as id\n",
    "    model_data = {}\n",
    "    data_names = ['reactions', 'metabolites', 'genes']\n",
    "    for i in range(len(data_names)):\n",
    "        model_data[data_names[i]] = df_list[i]\n",
    "\n",
    "    return model_data"
   ]
  },
  {
   "cell_type": "code",
   "execution_count": null,
   "id": "f5661d71",
   "metadata": {},
   "outputs": [],
   "source": [
    "# get dictionary for ecoli data\n",
    "ecoli_data = get_model_data(ecoli_model)\n",
    "\n",
    "ecoli_rxn = ecoli_data['reactions']\n",
    "ecoli_met = ecoli_data['metabolites']\n",
    "ecoli_genes = ecoli_data['genes']"
   ]
  },
  {
   "cell_type": "code",
   "execution_count": null,
   "id": "2ce40df8",
   "metadata": {},
   "outputs": [],
   "source": [
    "print(\"Reactions DataFrame:\")\n",
    "print(ecoli_rxn.head())\n",
    "print(\"\\nMetabolites DataFrame:\")\n",
    "print(ecoli_met.head())\n",
    "print(\"\\nGenes DataFrame:\")\n",
    "print(ecoli_genes.head())"
   ]
  },
  {
   "cell_type": "code",
   "execution_count": null,
   "id": "8fd4caaf",
   "metadata": {},
   "outputs": [],
   "source": [
    "ecoli_rxn.head()"
   ]
  },
  {
   "cell_type": "code",
   "execution_count": null,
   "id": "2f3ab98c",
   "metadata": {
    "scrolled": true
   },
   "outputs": [],
   "source": [
    "ecoli_met.head()"
   ]
  },
  {
   "cell_type": "code",
   "execution_count": null,
   "id": "bcc7320c",
   "metadata": {},
   "outputs": [],
   "source": [
    "ecoli_genes.head()"
   ]
  },
  {
   "cell_type": "markdown",
   "id": "d7816664",
   "metadata": {},
   "source": [
    "## Connect MySQL to Python Using SQLAlchemy and Add Data to Tables"
   ]
  },
  {
   "cell_type": "code",
   "execution_count": null,
   "id": "989283e4",
   "metadata": {},
   "outputs": [],
   "source": [
    "from sqlalchemy import create_engine"
   ]
  },
  {
   "cell_type": "code",
   "execution_count": null,
   "id": "35cae1d3",
   "metadata": {},
   "outputs": [],
   "source": [
    "# set environment variables (user and password)\n",
    "    # user = root\n",
    "    # password = your own root password (comment out below and delete your password after setting pwd variable)\n",
    "    \n",
    "# %env user = root\n",
    "# %env password = {pwd}"
   ]
  },
  {
   "cell_type": "code",
   "execution_count": null,
   "id": "442c3839",
   "metadata": {},
   "outputs": [],
   "source": [
    "# Make our connection to db\n",
    "# set parameters first\n",
    "host = \"localhost\"\n",
    "db = \"metabolic_pathways\"\n",
    "user = os.environ['user']\n",
    "pw = os.environ['password']\n",
    "\n",
    "# create connection using params\n",
    "con = create_engine(f\"mysql+mysqlconnector://{user}:{pw}@{host}/{db}\", echo=False)"
   ]
  },
  {
   "cell_type": "code",
   "execution_count": null,
   "id": "48d8873d",
   "metadata": {},
   "outputs": [],
   "source": [
    "# create function to add reaction data from all models to reaction table\n",
    "\n",
    "def add_reactions(bigg_ids):\n",
    "    \"\"\"\n",
    "    Given the list of model_ids, get the data from each model and add the reactions to the reaction\n",
    "    table in MySQL\n",
    "\n",
    "    \"\"\"\n",
    "    # for each model\n",
    "    for model_id in bigg_ids:\n",
    "        \n",
    "        # get data from all models and save each df as a variable\n",
    "        model_data = get_model_data(model_id)\n",
    "        model_rxn = model_data['reactions']\n",
    "        model_met = model_data['metabolites']\n",
    "        model_genes = model_data['genes']\n",
    "    \n",
    "        # remove stoichiometry from rxn df\n",
    "        short_rxn = model_rxn[['id', 'name', 'lower_bound', 'upper_bound', 'objective_coefficient']]\n",
    "\n",
    "        # add rxn data to reaction table\n",
    "        short_rxn.to_sql('reaction', con, if_exists='append', index=False)\n",
    "    "
   ]
  },
  {
   "cell_type": "code",
   "execution_count": null,
   "id": "c0be5769",
   "metadata": {},
   "outputs": [],
   "source": [
    "# call add_reactions() to write reaction data for all models to reaction table\n",
    "add_reactions(models)"
   ]
  }
 ],
 "metadata": {
  "kernelspec": {
   "display_name": "Python 3 (ipykernel)",
   "language": "python",
   "name": "python3"
  },
  "language_info": {
   "codemirror_mode": {
    "name": "ipython",
    "version": 3
   },
   "file_extension": ".py",
   "mimetype": "text/x-python",
   "name": "python",
   "nbconvert_exporter": "python",
   "pygments_lexer": "ipython3",
   "version": "3.10.9"
  }
 },
 "nbformat": 4,
 "nbformat_minor": 5
}
