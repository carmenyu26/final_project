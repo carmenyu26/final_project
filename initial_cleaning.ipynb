{
 "cells": [
  {
   "cell_type": "markdown",
   "id": "95935bcf",
   "metadata": {},
   "source": [
    "## notes\n",
    "\n",
    "very informal reading in data - CY"
   ]
  },
  {
   "cell_type": "code",
   "execution_count": 15,
   "id": "c7ef4bf7",
   "metadata": {},
   "outputs": [],
   "source": [
    "import pandas as pd\n",
    "import numpy as np\n",
    "import xml.etree.ElementTree as ET"
   ]
  },
  {
   "cell_type": "code",
   "execution_count": 16,
   "id": "9682e4b6-988d-448b-a6b5-78082e8c3223",
   "metadata": {},
   "outputs": [
    {
     "name": "stderr",
     "output_type": "stream",
     "text": [
      "  % Total    % Received % Xferd  Average Speed   Time    Time     Time  Current\n",
      "                                 Dload  Upload   Total   Spent    Left  Speed\n",
      "  0     0    0     0    0     0      0      0 --:--:-- --:--:-- --:--:--     0"
     ]
    },
    {
     "name": "stdout",
     "output_type": "stream",
     "text": [
      "{\"results\": [{\"bigg_id\": \"e_coli_core\", \"gene_count\": 137, \"reaction_count\": 95, \"organism\": \"Escherichia coli str. K-12 substr. MG1655\", \"metabolite_count\": 72}, {\"bigg_id\": \"iAB_RBC_283\", \"gene_count\": 346, \"reaction_count\": 469, \"organism\": \"Homo sapiens\", \"metabolite_count\": 342}, {\"bigg_id\": \"iAF1260\", \"gene_count\": 1261, \"reaction_count\": 2382, \"organism\": \"Escherichia coli str. K-12 substr. MG1655\", \"metabolite_count\": 1668}, {\"bigg_id\": \"iAF1260b\", \"gene_count\": 1261, \"reaction_count\": 2388, \"organism\": \"Escherichia coli str. K-12 substr. MG1655\", \"metabolite_count\": 1668}, {\"bigg_id\": \"iAF692\", \"gene_count\": 692, \"reaction_count\": 690, \"organism\": \"Methanosarcina barkeri str. Fusaro\", \"metabolite_count\": 628}, {\"bigg_id\": \"iAF987\", \"gene_count\": 987, \"reaction_count\": 1285, \"organism\": \"Geobacter metallireducens GS-15\", \"metabolite_count\": 1109}, {\"bigg_id\": \"iAM_Pb448\", \"gene_count\": 448, \"reaction_count\": 1067, \"organism\": \"Plasmodium berghei\", \"metabolite_count\": 903}, {\"bigg_id\": \"iAM_Pc455\", \"gene_count\": 455, \"reaction_count\": 1074, \"organism\": \"Plasmodium cynomolgi strain B\", \"metabolite_count\": 907}, {\"bigg_id\": \"iAM_Pf480\", \"gene_count\": 480, \"reaction_count\": 1083, \"organism\": \"Plasmodium falciparum 3D7\", \"metabolite_count\": 909}, {\"bigg_id\": \"iAM_Pk459\", \"gene_count\": 459, \"reaction_count\": 1079, \"organism\": \"Plasmodium knowlesi strain H\", \"metabolite_count\": 909}, {\"bigg_id\": \"iAM_Pv461\", \"gene_count\": 461, \"reaction_count\": 1078, \"organism\": \"Plasmodium vivax Sal-1\", \"metabolite_count\": 909}, {\"bigg_id\": \"iAPECO1_1312\", \"gene_count\": 1313, \"reaction_count\": 2735, \"organism\": \"Escherichia coli APEC O1\", \"metabolite_count\": 1942}, {\"bigg_id\": \"iAT_PLT_636\", \"gene_count\": 636, \"reaction_count\": 1008, \"organism\": \"Homo sapiens\", \"metabolite_count\": 738}, {\"bigg_id\": \"iB21_1397\", \"gene_count\": 1337, \"reaction_count\": 2741, \"organism\": \"Escherichia coli BL21(DE3)\", \"metabolite_count\": 1943}, {\"bigg_id\": \"iBWG_1329\", \"gene_count\": 1329, \"reaction_count\": 2741, \"organism\": \"Escherichia coli BW2952\", \"metabolite_count\": 1949}, {\"bigg_id\": \"ic_1306\", \"gene_count\": 1307, \"reaction_count\": 2726, \"organism\": \"Escherichia coli CFT073\", \"metabolite_count\": 1936}, {\"bigg_id\": \"iCHOv1\", \"gene_count\": 1766, \"reaction_count\": 6663, \"organism\": \"Cricetulus griseus\", \"metabolite_count\": 4456}, {\"bigg_id\": \"iCHOv1_DG44\", \"gene_count\": 1184, \"reaction_count\": 3942, \"organism\": \"Cricetulus griseus\", \"metabolite_count\": 2751}, {\"bigg_id\": \"iCN718\", \"gene_count\": 709, \"reaction_count\": 1015, \"organism\": \"Acinetobacter baumannii AYE\", \"metabolite_count\": 888}, {\"bigg_id\": \"iCN900\", \"gene_count\": 900, \"reaction_count\": 1229, \"organism\": \"Clostridioides difficile 630\", \"metabolite_count\": 885}, {\"bigg_id\": \"iE2348C_1286\", \"gene_count\": 1287, \"reaction_count\": 2703, \"organism\": \"Escherichia coli O127:H6 str. E2348/69\", \"metabolite_count\": 1919}, {\"bigg_id\": \"iEC042_1314\", \"gene_count\": 1314, \"reaction_count\": 2714, \"organism\": \"Escherichia coli 042\", \"metabolite_count\": 1926}, {\"bigg_id\": \"iEC1344_C\", \"gene_count\": 1344, \"reaction_count\": 2726, \"organism\": \"Escherichia coli C\", \"metabolite_count\": 1934}, {\"bigg_id\": \"iEC1349_Crooks\", \"gene_count\": 1349, \"reaction_count\": 2756, \"organism\": \"Escherichia coli ATCC 8739\", \"metabolite_count\": 1946}, {\"bigg_id\": \"iEC1356_Bl21DE3\", \"gene_count\": 1356, \"reaction_count\": 2740, \"organism\": \"Escherichia coli BL21(DE3)\", \"metabolite_count\": 1918}, {\"bigg_id\": \"iEC1364_W\", \"gene_count\": 1364, \"reaction_count\": 2764, \"organism\": \"Escherichia coli W\", \"metabolite_count\": 1927}, {\"bigg_id\": \"iEC1368_DH5a\", \"gene_count\": 1368, \"reaction_count\": 2779, \"organism\": \"Escherichia coli DH5[alpha]\", \"metabolite_count\": 1951}, {\"bigg_id\": \"iEC1372_W3110\", \"gene_count\": 1372, \"reaction_count\": 2758, \"organism\": \"Escherichia coli str. K-12 substr. W3110\", \"metabolite_count\": 1918}, {\"bigg_id\": \"iEC55989_1330\", \"gene_count\": 1330, \"reaction_count\": 2756, \"organism\": \"Escherichia coli 55989\", \"metabolite_count\": 1953}, {\"bigg_id\": \"iECABU_c1320\", \"gene_count\": 1320, \"reaction_count\": 2731, \"organism\": \"Escherichia coli ABU 83972\", \"metabolite_count\": 1942}, {\"bigg_id\": \"iECB_1328\", \"gene_count\": 1329, \"reaction_count\": 2748, \"organism\": \"Escherichia coli B str. REL606\", \"metabolite_count\": 1951}, {\"bigg_id\": \"iECBD_1354\", \"gene_count\": 1354, \"reaction_count\": 2748, \"organism\": \"Escherichia coli 'BL21-Gold(DE3)pLysS AG'\", \"metabolite_count\": 1952}, {\"bigg_id\": \"iECD_1391\", \"gene_count\": 1333, \"reaction_count\": 2741, \"organism\": \"Escherichia coli BL21(DE3)\", \"metabolite_count\": 1943}, {\"bigg_id\": \"iECDH10B_1368\", \"gene_count\": 1327, \"reaction_count\": 2742, \"organism\": \"Escherichia coli str. K-12 substr. DH10B\", \"metabolite_count\": 1947}, {\"bigg_id\": \"iEcDH1_1363\", \"gene_count\": 1363, \"reaction_count\": 2750, \"organism\": \"Escherichia coli DH1\", \"metabolite_count\": 1949}, {\"bigg_id\": \"iECDH1ME8569_1439\", \"gene_count\": 1439, \"reaction_count\": 2755, \"organism\": \"Escherichia coli DH1\", \"metabolite_count\": 1950}, {\"bigg_id\": \"iEcE24377_1341\", \"gene_count\": 1341, \"reaction_count\": 2763, \"organism\": \"Escherichia coli O139:H28 str. E24377A\", \"metabolite_count\": 1972}, {\"bigg_id\": \"iECED1_1282\", \"gene_count\": 1279, \"reaction_count\": 2706, \"organism\": \"Escherichia coli ED1a\", \"metabolite_count\": 1929}, {\"bigg_id\": \"iECH74115_1262\", \"gene_count\": 1262, \"reaction_count\": 2694, \"organism\": \"Escherichia coli O157:H7 str. EC4115\", \"metabolite_count\": 1918}, {\"bigg_id\": \"iEcHS_1320\", \"gene_count\": 1321, \"reaction_count\": 2753, \"organism\": \"Escherichia coli HS\", \"metabolite_count\": 1963}, {\"bigg_id\": \"iECIAI1_1343\", \"gene_count\": 1343, \"reaction_count\": 2765, \"organism\": \"Escherichia coli IAI1\", \"metabolite_count\": 1968}, {\"bigg_id\": \"iECIAI39_1322\", \"gene_count\": 1321, \"reaction_count\": 2721, \"organism\": \"Escherichia coli IAI39\", \"metabolite_count\": 1953}, {\"bigg_id\": \"iECNA114_1301\", \"gene_count\": 1301, \"reaction_count\": 2718, \"organism\": \"Escherichia coli NA114\", \"metabolite_count\": 1927}, {\"bigg_id\": \"iECO103_1326\", \"gene_count\": 1327, \"reaction_count\": 2758, \"organism\": \"Escherichia coli O103:H2 str. 12009\", \"metabolite_count\": 1958}, {\"bigg_id\": \"iECO111_1330\", \"gene_count\": 1328, \"reaction_count\": 2760, \"organism\": \"Escherichia coli O111:H- str. 11128\", \"metabolite_count\": 1959}, {\"bigg_id\": \"iECO26_1355\", \"gene_count\": 1355, \"reaction_count\": 2780, \"organism\": \"Escherichia coli O26:H11 str. 11368\", \"metabolite_count\": 1965}, {\"bigg_id\": \"iECOK1_1307\", \"gene_count\": 1304, \"reaction_count\": 2729, \"organism\": \"Escherichia coli IHE3034\", \"metabolite_count\": 1941}, {\"bigg_id\": \"iEcolC_1368\", \"gene_count\": 1368, \"reaction_count\": 2768, \"organism\": \"Escherichia coli ATCC 8739\", \"metabolite_count\": 1969}, {\"bigg_id\": \"iECP_1309\", \"gene_count\": 1309, \"reaction_count\": 2739, \"organism\": \"Escherichia coli 536\", \"metabolite_count\": 1941}, {\"bigg_id\": \"iECs_1301\", \"gene_count\": 1301, \"reaction_count\": 2720, \"organism\": \"Escherichia coli O157:H7 str. Sakai\", \"metabolite_count\": 1923}, {\"bigg_id\": \"iECS88_1305\", \"gene_count\": 1305, \"reaction_count\": 2729, \"organism\": \"Escherichia coli S88\", \"metabolite_count\": 1942}, {\"bigg_id\": \"iECSE_1348\", \"gene_count\": 1348, \"reaction_count\": 2768, \"organism\": \"Escherichia coli SE11\", \"metabolite_count\": 1957}, {\"bigg_id\": \"iECSF_1327\", \"gene_count\": 1327, \"reaction_count\": 2742, \"organism\": \"Escherichia coli SE15\", \"metabolite_count\": 1951}, {\"bigg_id\": \"iEcSMS35_1347\", \"gene_count\": 1347, \"reaction_count\": 2746, \"organism\": \"Escherichia coli SMS-3-5\", \"metabolite_count\": 1947}, {\"bigg_id\": \"iECSP_1301\", \"gene_count\": 1299, \"reaction_count\": 2712, \"organism\": \"Escherichia coli O157:H7 str. TW14359\", \"metabolite_count\": 1920}, {\"bigg_id\": \"iECUMN_1333\", \"gene_count\": 1332, \"reaction_count\": 2740, \"organism\": \"Escherichia coli UMN026\", \"metabolite_count\": 1935}, {\"bigg_id\": \"iECW_1372\", \"gene_count\": 1372, \"reaction_count\": 2782, \"organism\": \"Escherichia coli W\", \"metabolite_count\": 1973}, {\"bigg_id\": \"iEK1008\", \"gene_count\": 1008, \"reaction_count\": 1226, \"organism\": \"Mycobacterium tuberculosis H37Rv\", \"metabolite_count\": 998}, {\"bigg_id\": \"iEKO11_1354\", \"gene_count\": 1354, \"reaction_count\": 2778, \"organism\": \"Escherichia coli KO11FL\", \"metabolite_count\": 1972}, {\"bigg_id\": \"iETEC_1333\", \"gene_count\": 1333, \"reaction_count\": 2756, \"organism\": \"Escherichia coli ETEC H10407\", \"metabolite_count\": 1962}, {\"bigg_id\": \"iG2583_1286\", \"gene_count\": 1283, \"reaction_count\": 2704, \"organism\": \"Escherichia coli O55:H7 str. CB9615\", \"metabolite_count\": 1919}, {\"bigg_id\": \"iHN637\", \"gene_count\": 637, \"reaction_count\": 785, \"organism\": \"Clostridium ljungdahlii DSM 13528\", \"metabolite_count\": 698}, {\"bigg_id\": \"iIS312\", \"gene_count\": 312, \"reaction_count\": 519, \"organism\": \"Trypanosoma cruzi Dm28c\", \"metabolite_count\": 606}, {\"bigg_id\": \"iIS312_Amastigote\", \"gene_count\": 312, \"reaction_count\": 519, \"organism\": \"Trypanosoma cruzi Dm28c\", \"metabolite_count\": 606}, {\"bigg_id\": \"iIS312_Epimastigote\", \"gene_count\": 312, \"reaction_count\": 519, \"organism\": \"Trypanosoma cruzi Dm28c\", \"metabolite_count\": 606}, {\"bigg_id\": \"iIS312_Trypomastigote\", \"gene_count\": 312, \"reaction_count\": 520, \"organism\": \"Trypanosoma cruzi Dm28c\", \"metabolite_count\": 606}, {\"bigg_id\": \"iIT341\", \"gene_count\": 339, \"reaction_count\": 554, \"organism\": \"Helicobacter pylori 26695\", \"metabolite_count\": 485}, {\"bigg_id\": \"iJB785\", \"gene_count\": 785, \"reaction_count\": 849, \"organism\": \"Synechococcus elongatus PCC 7942\", \"metabolite_count\": 768}, {\"bigg_id\": \"iJN1463\", \"gene_count\": 1462, \"reaction_count\": 2927, \"organism\": \"Pseudomonas putida KT2440\", \"metabolite_count\": 2153}, {\"bigg_id\": \"iJN678\", \"gene_count\": 622, \"reaction_count\": 863, \"organism\": \"Synechocystis sp. PCC 6803\", \"metabolite_count\": 795}, {\"bigg_id\": \"iJN746\", \"gene_count\": 746, \"reaction_count\": 1054, \"organism\": \"Pseudomonas putida KT2440\", \"metabolite_count\": 907}, {\"bigg_id\": \"iJO1366\", \"gene_count\": 1367, \"reaction_count\": 2583, \"organism\": \"Escherichia coli str. K-12 substr. MG1655\", \"metabolite_count\": 1805}, {\"bigg_id\": \"iJR904\", \"gene_count\": 904, \"reaction_count\": 1075, \"organism\": \"Escherichia coli str. K-12 substr. MG1655\", \"metabolite_count\": 761}, {\"bigg_id\": \"iLB1027_lipid\", \"gene_count\": 1027, \"reaction_count\": 4456, \"organism\": \"Phaeodactylum tricornutum CCAP 1055/1\", \"metabolite_count\": 2172}, {\"bigg_id\": \"iLF82_1304\", \"gene_count\": 1302, \"reaction_count\": 2726, \"organism\": \"Escherichia coli LF82\", \"metabolite_count\": 1938}, {\"bigg_id\": \"iLJ478\", \"gene_count\": 482, \"reaction_count\": 652, \"organism\": \"Thermotoga maritima MSB8\", \"metabolite_count\": 570}, {\"bigg_id\": \"iML1515\", \"gene_count\": 1516, \"reaction_count\": 2712, \"organism\": \"Escherichia coli str. K-12 substr. MG1655\", \"metabolite_count\": 1877}, {\"bigg_id\": \"iMM1415\", \"gene_count\": 1375, \"reaction_count\": 3726, \"organism\": \"Mus musculus\", \"metabolite_count\": 2775}, {\"bigg_id\": \"iMM904\", \"gene_count\": 905, \"reaction_count\": 1577, \"organism\": \"Saccharomyces cerevisiae S288C\", \"metabolite_count\": 1226}, {\"bigg_id\": \"iND750\", \"gene_count\": 750, \"reaction_count\": 1266, \"organism\": \"Saccharomyces cerevisiae S288C\", \"metabolite_count\": 1059}, {\"bigg_id\": \"iNF517\", \"gene_count\": 516, \"reaction_count\": 754, \"organism\": \"Lactococcus lactis subsp. cremoris MG1363\", \"metabolite_count\": 650}, {\"bigg_id\": \"iNJ661\", \"gene_count\": 661, \"reaction_count\": 1025, \"organism\": \"Mycobacterium tuberculosis H37Rv\", \"metabolite_count\": 825}, {\"bigg_id\": \"iNRG857_1313\", \"gene_count\": 1311, \"reaction_count\": 2735, \"organism\": \"Escherichia coli O83:H1 str. NRG 857C\", \"metabolite_count\": 1943}, {\"bigg_id\": \"iPC815\", \"gene_count\": 815, \"reaction_count\": 1961, \"organism\": \"Yersinia pestis CO92\", \"metabolite_count\": 1552}, {\"bigg_id\": \"iRC1080\", \"gene_count\": 1086, \"reaction_count\": 2191, \"organism\": \"Chlamydomonas reinhardtii\", \"metabolite_count\": 1706}, {\"bigg_id\": \"iS_1188\", \"gene_count\": 1188, \"reaction_count\": 2619, \"organism\": \"Shigella flexneri 2a str. 2457T\", \"metabolite_count\": 1914}, {\"bigg_id\": \"iSB619\", \"gene_count\": 619, \"reaction_count\": 743, \"organism\": \"Staphylococcus aureus subsp. aureus N315\", \"metabolite_count\": 655}, {\"bigg_id\": \"iSbBS512_1146\", \"gene_count\": 1147, \"reaction_count\": 2591, \"organism\": \"Shigella boydii CDC 3083-94\", \"metabolite_count\": 1910}, {\"bigg_id\": \"iSBO_1134\", \"gene_count\": 1134, \"reaction_count\": 2591, \"organism\": \"Shigella boydii Sb227\", \"metabolite_count\": 1908}, {\"bigg_id\": \"iSDY_1059\", \"gene_count\": 1059, \"reaction_count\": 2539, \"organism\": \"Shigella dysenteriae Sd197\", \"metabolite_count\": 1888}, {\"bigg_id\": \"iSF_1195\", \"gene_count\": 1195, \"reaction_count\": 2630, \"organism\": \"Shigella flexneri 2a str. 301\", \"metabolite_count\": 1917}, {\"bigg_id\": \"iSFV_1184\", \"gene_count\": 1184, \"reaction_count\": 2621, \"organism\": \"Shigella flexneri 5 str. 8401\", \"metabolite_count\": 1917}, {\"bigg_id\": \"iSFxv_1172\", \"gene_count\": 1169, \"reaction_count\": 2638, \"organism\": \"Shigella flexneri 2002017\", \"metabolite_count\": 1918}, {\"bigg_id\": \"iSSON_1240\", \"gene_count\": 1240, \"reaction_count\": 2693, \"organism\": \"Shigella sonnei Ss046\", \"metabolite_count\": 1936}, {\"bigg_id\": \"iSynCJ816\", \"gene_count\": 816, \"reaction_count\": 1044, \"organism\": \"Synechocystis sp. PCC 6803\", \"metabolite_count\": 928}, {\"bigg_id\": \"iUMN146_1321\", \"gene_count\": 1319, \"reaction_count\": 2735, \"organism\": \"Escherichia coli UM146\", \"metabolite_count\": 1942}, {\"bigg_id\": \"iUMNK88_1353\", \"gene_count\": 1353, \"reaction_count\": 2777, \"organism\": \"Escherichia coli UMNK88\", \"metabolite_count\": 1969}, {\"bigg_id\": \"iUTI89_1310\", \"gene_count\": 1310, \"reaction_count\": 2725, \"organism\": \"Escherichia coli UTI89\", \"metabolite_count\": 1940}, {\"bigg_id\": \"iWFL_1372\", \"gene_count\": 1372, \"reaction_count\": 2782, \"organism\": \"Escherichia coli W\", \"metabolite_count\": 1973}, {\"bigg_id\": \"iY75_1357\", \"gene_count\": 1358, \"reaction_count\": 2759, \"organism\": \"Escherichia coli str. K-12 substr. W3110\", \"metabolite_count\": 1953}, {\"bigg_id\": \"iYL1228\", \"gene_count\": 1229, \"reaction_count\": 2262, \"organism\": \"Klebsiella pneumoniae subsp. pneumoniae MGH 78578\", \"metabolite_count\": 1658}, {\"bigg_id\": \"iYO844\", \"gene_count\": 844, \"reaction_count\": 1250, \"organism\": \"Bacillus subtilis subsp. subtilis str. 168\", \"metabolite_count\": 990}, {\"bigg_id\": \"iYS1720\", \"gene_count\": 1707, \"reaction_count\": 3357, \"organism\": \"Salmonella pan-reactome\", \"metabolite_count\": 2436}, {\"bigg_id\": \"iYS854\", \"gene_count\": 866, \"reaction_count\": 1455, \"organism\": \"Staphylococcus aureus subsp. aureus USA300_TCH1516\", \"metabolite_count\": 1335}, {\"bigg_id\": \"iZ_1308\", \"gene_count\": 1308, \"reaction_count\": 2721, \"organism\": \"Escherichia coli O157:H7 str. EDL933\", \"metabolite_count\": 1923}, {\"bigg_id\": \"RECON1\", \"gene_count\": 1905, \"reaction_count\": 3741, \"organism\": \"Homo sapiens\", \"metabolite_count\": 2766}, {\"bigg_id\": \"Recon3D\", \"gene_count\": 2248, \"reaction_count\": 10600, \"organism\": \"Homo sapiens\", \"metabolite_count\": 5835}, {\"bigg_id\": \"STM_v1_0\", \"gene_count\": 1271, \"reaction_count\": 2545, \"organism\": \"Salmonella enterica subsp. enterica serovar Typhimurium str. LT2\", \"metabolite_count\": 1802}], \"results_count\": 108}\n"
     ]
    },
    {
     "name": "stderr",
     "output_type": "stream",
     "text": [
      "100 15129  100 15129    0     0  22030      0 --:--:-- --:--:-- --:--:-- 22215\n"
     ]
    }
   ],
   "source": [
    "import subprocess\n",
    "#curl 'http://bigg.ucsd.edu/api/v2/models/iND750/download'\n",
    "result = subprocess.run(\n",
    "    [\"curl\", \"http://bigg.ucsd.edu/api/v2/models\"],\n",
    "    stdout=subprocess.PIPE,\n",
    "    check=True\n",
    ")\n",
    "output = result.stdout.decode(\"utf-8\")\n",
    "print(output)"
   ]
  },
  {
   "cell_type": "code",
   "execution_count": 17,
   "id": "ea5e588d-1457-4a20-a8c6-c6aae1081883",
   "metadata": {},
   "outputs": [
    {
     "name": "stdout",
     "output_type": "stream",
     "text": [
      "['e_coli_core', 'iAB_RBC_283', 'iAF1260', 'iAF1260b', 'iAF692', 'iAF987', 'iAM_Pb448', 'iAM_Pc455', 'iAM_Pf480', 'iAM_Pk459', 'iAM_Pv461', 'iAPECO1_1312', 'iAT_PLT_636', 'iB21_1397', 'iBWG_1329', 'ic_1306', 'iCHOv1', 'iCHOv1_DG44', 'iCN718', 'iCN900', 'iE2348C_1286', 'iEC042_1314', 'iEC1344_C', 'iEC1349_Crooks', 'iEC1356_Bl21DE3', 'iEC1364_W', 'iEC1368_DH5a', 'iEC1372_W3110', 'iEC55989_1330', 'iECABU_c1320', 'iECB_1328', 'iECBD_1354', 'iECD_1391', 'iECDH10B_1368', 'iEcDH1_1363', 'iECDH1ME8569_1439', 'iEcE24377_1341', 'iECED1_1282', 'iECH74115_1262', 'iEcHS_1320', 'iECIAI1_1343', 'iECIAI39_1322', 'iECNA114_1301', 'iECO103_1326', 'iECO111_1330', 'iECO26_1355', 'iECOK1_1307', 'iEcolC_1368', 'iECP_1309', 'iECs_1301', 'iECS88_1305', 'iECSE_1348', 'iECSF_1327', 'iEcSMS35_1347', 'iECSP_1301', 'iECUMN_1333', 'iECW_1372', 'iEK1008', 'iEKO11_1354', 'iETEC_1333', 'iG2583_1286', 'iHN637', 'iIS312', 'iIS312_Amastigote', 'iIS312_Epimastigote', 'iIS312_Trypomastigote', 'iIT341', 'iJB785', 'iJN1463', 'iJN678', 'iJN746', 'iJO1366', 'iJR904', 'iLB1027_lipid', 'iLF82_1304', 'iLJ478', 'iML1515', 'iMM1415', 'iMM904', 'iND750', 'iNF517', 'iNJ661', 'iNRG857_1313', 'iPC815', 'iRC1080', 'iS_1188', 'iSB619', 'iSbBS512_1146', 'iSBO_1134', 'iSDY_1059', 'iSF_1195', 'iSFV_1184', 'iSFxv_1172', 'iSSON_1240', 'iSynCJ816', 'iUMN146_1321', 'iUMNK88_1353', 'iUTI89_1310', 'iWFL_1372', 'iY75_1357', 'iYL1228', 'iYO844', 'iYS1720', 'iYS854', 'iZ_1308', 'RECON1', 'Recon3D', 'STM_v1_0']\n",
      "108\n"
     ]
    }
   ],
   "source": [
    "import json\n",
    "\n",
    "data = json.loads(output)\n",
    "bigg_ids = [item['bigg_id'] for item in data['results']]\n",
    "print(bigg_ids)\n",
    "print(len(bigg_ids))"
   ]
  },
  {
   "cell_type": "code",
   "execution_count": 26,
   "id": "dea73226-7cc4-4800-a810-6ece42f88eb7",
   "metadata": {},
   "outputs": [
    {
     "name": "stderr",
     "output_type": "stream",
     "text": [
      "  % Total    % Received % Xferd  Average Speed   Time    Time     Time  Current\n",
      "                                 Dload  Upload   Total   Spent    Left  Speed\n",
      "100  690k  100  690k    0     0   271k      0  0:00:02  0:00:02 --:--:--  272k\n",
      "  % Total    % Received % Xferd  Average Speed   Time    Time     Time  Current\n",
      "                                 Dload  Upload   Total   Spent    Left  Speed\n",
      "  0     0    0     0    0     0      0      0 --:--:-- --:--:-- --:--:--     0"
     ]
    },
    {
     "name": "stdout",
     "output_type": "stream",
     "text": [
      "Saved output to /Users/dhruvjatkar/Desktop/cs3200_project/e_coli_core.xml\n"
     ]
    },
    {
     "name": "stderr",
     "output_type": "stream",
     "text": [
      "100 2371k  100 2371k    0     0   251k      0  0:00:09  0:00:09 --:--:--  420k\n",
      "  % Total    % Received % Xferd  Average Speed   Time    Time     Time  Current\n",
      "                                 Dload  Upload   Total   Spent    Left  Speed\n",
      "  0     0    0     0    0     0      0      0 --:--:-- --:--:-- --:--:--     0"
     ]
    },
    {
     "name": "stdout",
     "output_type": "stream",
     "text": [
      "Saved output to /Users/dhruvjatkar/Desktop/cs3200_project/iAB_RBC_283.xml\n"
     ]
    },
    {
     "name": "stderr",
     "output_type": "stream",
     "text": [
      "100 9957k  100 9957k    0     0  1003k      0  0:00:09  0:00:09 --:--:-- 1673k\n",
      "  % Total    % Received % Xferd  Average Speed   Time    Time     Time  Current\n",
      "                                 Dload  Upload   Total   Spent    Left  Speed\n",
      "  0     0    0     0    0     0      0      0 --:--:-- --:--:-- --:--:--     0"
     ]
    },
    {
     "name": "stdout",
     "output_type": "stream",
     "text": [
      "Saved output to /Users/dhruvjatkar/Desktop/cs3200_project/iAF1260.xml\n"
     ]
    },
    {
     "name": "stderr",
     "output_type": "stream",
     "text": [
      "100 9969k  100 9969k    0     0  1081k      0  0:00:09  0:00:09 --:--:-- 1556k\n",
      "  % Total    % Received % Xferd  Average Speed   Time    Time     Time  Current\n",
      "                                 Dload  Upload   Total   Spent    Left  Speed\n",
      "  0     0    0     0    0     0      0      0 --:--:-- --:--:-- --:--:--     0"
     ]
    },
    {
     "name": "stdout",
     "output_type": "stream",
     "text": [
      "Saved output to /Users/dhruvjatkar/Desktop/cs3200_project/iAF1260b.xml\n"
     ]
    },
    {
     "name": "stderr",
     "output_type": "stream",
     "text": [
      "100 3513k  100 3513k    0     0   953k      0  0:00:03  0:00:03 --:--:--  955k\n",
      "  % Total    % Received % Xferd  Average Speed   Time    Time     Time  Current\n",
      "                                 Dload  Upload   Total   Spent    Left  Speed\n",
      "  0     0    0     0    0     0      0      0 --:--:-- --:--:-- --:--:--     0"
     ]
    },
    {
     "name": "stdout",
     "output_type": "stream",
     "text": [
      "Saved output to /Users/dhruvjatkar/Desktop/cs3200_project/iAF692.xml\n"
     ]
    },
    {
     "name": "stderr",
     "output_type": "stream",
     "text": [
      "100 5787k  100 5787k    0     0  1226k      0  0:00:04  0:00:04 --:--:-- 1228k\n",
      "  % Total    % Received % Xferd  Average Speed   Time    Time     Time  Current\n",
      "                                 Dload  Upload   Total   Spent    Left  Speed\n",
      "  0     0    0     0    0     0      0      0 --:--:-- --:--:-- --:--:--     0"
     ]
    },
    {
     "name": "stdout",
     "output_type": "stream",
     "text": [
      "Saved output to /Users/dhruvjatkar/Desktop/cs3200_project/iAF987.xml\n"
     ]
    },
    {
     "name": "stderr",
     "output_type": "stream",
     "text": [
      "100 4647k  100 4647k    0     0   676k      0  0:00:06  0:00:06 --:--:--  810k\n",
      "  % Total    % Received % Xferd  Average Speed   Time    Time     Time  Current\n",
      "                                 Dload  Upload   Total   Spent    Left  Speed\n",
      "  0     0    0     0    0     0      0      0 --:--:-- --:--:-- --:--:--     0"
     ]
    },
    {
     "name": "stdout",
     "output_type": "stream",
     "text": [
      "Saved output to /Users/dhruvjatkar/Desktop/cs3200_project/iAM_Pb448.xml\n"
     ]
    },
    {
     "name": "stderr",
     "output_type": "stream",
     "text": [
      "100 4448k  100 4448k    0     0  1467k      0  0:00:03  0:00:03 --:--:-- 1471k\n",
      "  % Total    % Received % Xferd  Average Speed   Time    Time     Time  Current\n",
      "                                 Dload  Upload   Total   Spent    Left  Speed\n",
      "  0     0    0     0    0     0      0      0 --:--:-- --:--:-- --:--:--     0"
     ]
    },
    {
     "name": "stdout",
     "output_type": "stream",
     "text": [
      "Saved output to /Users/dhruvjatkar/Desktop/cs3200_project/iAM_Pc455.xml\n"
     ]
    },
    {
     "name": "stderr",
     "output_type": "stream",
     "text": [
      "100 4806k  100 4806k    0     0  1848k      0  0:00:02  0:00:02 --:--:-- 1852k\n",
      "  % Total    % Received % Xferd  Average Speed   Time    Time     Time  Current\n",
      "                                 Dload  Upload   Total   Spent    Left  Speed\n",
      "  0     0    0     0    0     0      0      0 --:--:-- --:--:-- --:--:--     0"
     ]
    },
    {
     "name": "stdout",
     "output_type": "stream",
     "text": [
      "Saved output to /Users/dhruvjatkar/Desktop/cs3200_project/iAM_Pf480.xml\n"
     ]
    },
    {
     "name": "stderr",
     "output_type": "stream",
     "text": [
      "100 4370k  100 4370k    0     0  1240k      0  0:00:03  0:00:03 --:--:-- 1242k\n",
      "  % Total    % Received % Xferd  Average Speed   Time    Time     Time  Current\n",
      "                                 Dload  Upload   Total   Spent    Left  Speed\n",
      "  0     0    0     0    0     0      0      0 --:--:-- --:--:-- --:--:--     0"
     ]
    },
    {
     "name": "stdout",
     "output_type": "stream",
     "text": [
      "Saved output to /Users/dhruvjatkar/Desktop/cs3200_project/iAM_Pk459.xml\n"
     ]
    },
    {
     "name": "stderr",
     "output_type": "stream",
     "text": [
      "100 4452k  100 4452k    0     0   658k      0  0:00:06  0:00:06 --:--:--  670k\n",
      "  % Total    % Received % Xferd  Average Speed   Time    Time     Time  Current\n",
      "                                 Dload  Upload   Total   Spent    Left  Speed\n",
      "  0     0    0     0    0     0      0      0 --:--:-- --:--:-- --:--:--     0"
     ]
    },
    {
     "name": "stdout",
     "output_type": "stream",
     "text": [
      "Saved output to /Users/dhruvjatkar/Desktop/cs3200_project/iAM_Pv461.xml\n"
     ]
    },
    {
     "name": "stderr",
     "output_type": "stream",
     "text": [
      "100 10.1M  100 10.1M    0     0  1217k      0  0:00:08  0:00:08 --:--:-- 1754k\n",
      "  % Total    % Received % Xferd  Average Speed   Time    Time     Time  Current\n",
      "                                 Dload  Upload   Total   Spent    Left  Speed\n",
      "  0     0    0     0    0     0      0      0 --:--:-- --:--:-- --:--:--     0"
     ]
    },
    {
     "name": "stdout",
     "output_type": "stream",
     "text": [
      "Saved output to /Users/dhruvjatkar/Desktop/cs3200_project/iAPECO1_1312.xml\n"
     ]
    },
    {
     "name": "stderr",
     "output_type": "stream",
     "text": [
      "100 4607k  100 4607k    0     0  1751k      0  0:00:02  0:00:02 --:--:-- 1755k\n"
     ]
    },
    {
     "name": "stdout",
     "output_type": "stream",
     "text": [
      "Saved output to /Users/dhruvjatkar/Desktop/cs3200_project/iAT_PLT_636.xml\n"
     ]
    },
    {
     "name": "stderr",
     "output_type": "stream",
     "text": [
      "  % Total    % Received % Xferd  Average Speed   Time    Time     Time  Current\n",
      "                                 Dload  Upload   Total   Spent    Left  Speed\n",
      "100 10.9M  100 10.9M    0     0  1119k      0  0:00:10  0:00:10 --:--:-- 1416k\n",
      "  % Total    % Received % Xferd  Average Speed   Time    Time     Time  Current\n",
      "                                 Dload  Upload   Total   Spent    Left  Speed\n",
      "  0     0    0     0    0     0      0      0 --:--:-- --:--:-- --:--:--     0"
     ]
    },
    {
     "name": "stdout",
     "output_type": "stream",
     "text": [
      "Saved output to /Users/dhruvjatkar/Desktop/cs3200_project/iB21_1397.xml\n"
     ]
    },
    {
     "name": "stderr",
     "output_type": "stream",
     "text": [
      "100 10.1M  100 10.1M    0     0  1055k      0  0:00:09  0:00:09 --:--:-- 1625k\n"
     ]
    },
    {
     "name": "stdout",
     "output_type": "stream",
     "text": [
      "Saved output to /Users/dhruvjatkar/Desktop/cs3200_project/iBWG_1329.xml\n"
     ]
    },
    {
     "name": "stderr",
     "output_type": "stream",
     "text": [
      "  % Total    % Received % Xferd  Average Speed   Time    Time     Time  Current\n",
      "                                 Dload  Upload   Total   Spent    Left  Speed\n",
      "100 10.0M  100 10.0M    0     0   944k      0  0:00:10  0:00:10 --:--:-- 1336k\n",
      "  % Total    % Received % Xferd  Average Speed   Time    Time     Time  Current\n",
      "                                 Dload  Upload   Total   Spent    Left  Speed\n",
      "  0     0    0     0    0     0      0      0 --:--:-- --:--:-- --:--:--     0"
     ]
    },
    {
     "name": "stdout",
     "output_type": "stream",
     "text": [
      "Saved output to /Users/dhruvjatkar/Desktop/cs3200_project/ic_1306.xml\n"
     ]
    },
    {
     "name": "stderr",
     "output_type": "stream",
     "text": [
      "100 19.9M  100 19.9M    0     0  1493k      0  0:00:13  0:00:13 --:--:-- 1883k\n",
      "  % Total    % Received % Xferd  Average Speed   Time    Time     Time  Current\n",
      "                                 Dload  Upload   Total   Spent    Left  Speed\n",
      "  0     0    0     0    0     0      0      0 --:--:-- --:--:-- --:--:--     0"
     ]
    },
    {
     "name": "stdout",
     "output_type": "stream",
     "text": [
      "Saved output to /Users/dhruvjatkar/Desktop/cs3200_project/iCHOv1.xml\n"
     ]
    },
    {
     "name": "stderr",
     "output_type": "stream",
     "text": [
      "100 12.3M  100 12.3M    0     0  2010k      0  0:00:06  0:00:06 --:--:-- 2778k\n",
      "  % Total    % Received % Xferd  Average Speed   Time    Time     Time  Current\n",
      "                                 Dload  Upload   Total   Spent    Left  Speed\n",
      "  0     0    0     0    0     0      0      0 --:--:-- --:--:-- --:--:--     0"
     ]
    },
    {
     "name": "stdout",
     "output_type": "stream",
     "text": [
      "Saved output to /Users/dhruvjatkar/Desktop/cs3200_project/iCHOv1_DG44.xml\n"
     ]
    },
    {
     "name": "stderr",
     "output_type": "stream",
     "text": [
      "100 4806k  100 4806k    0     0  1568k      0  0:00:03  0:00:03 --:--:-- 1580k\n",
      "  % Total    % Received % Xferd  Average Speed   Time    Time     Time  Current\n",
      "                                 Dload  Upload   Total   Spent    Left  Speed\n",
      "  0     0    0     0    0     0      0      0 --:--:-- --:--:-- --:--:--     0"
     ]
    },
    {
     "name": "stdout",
     "output_type": "stream",
     "text": [
      "Saved output to /Users/dhruvjatkar/Desktop/cs3200_project/iCN718.xml\n"
     ]
    },
    {
     "name": "stderr",
     "output_type": "stream",
     "text": [
      "100 5544k  100 5544k    0     0  1556k      0  0:00:03  0:00:03 --:--:-- 1559k\n"
     ]
    },
    {
     "name": "stdout",
     "output_type": "stream",
     "text": [
      "Saved output to /Users/dhruvjatkar/Desktop/cs3200_project/iCN900.xml\n"
     ]
    },
    {
     "name": "stderr",
     "output_type": "stream",
     "text": [
      "  % Total    % Received % Xferd  Average Speed   Time    Time     Time  Current\n",
      "                                 Dload  Upload   Total   Spent    Left  Speed\n",
      "100 10.0M  100 10.0M    0     0  1256k      0  0:00:08  0:00:08 --:--:-- 1992k\n",
      "  % Total    % Received % Xferd  Average Speed   Time    Time     Time  Current\n",
      "                                 Dload  Upload   Total   Spent    Left  Speed\n",
      "  0     0    0     0    0     0      0      0 --:--:-- --:--:-- --:--:--     0"
     ]
    },
    {
     "name": "stdout",
     "output_type": "stream",
     "text": [
      "Saved output to /Users/dhruvjatkar/Desktop/cs3200_project/iE2348C_1286.xml\n"
     ]
    },
    {
     "name": "stderr",
     "output_type": "stream",
     "text": [
      "100 10.6M  100 10.6M    0     0  1416k      0  0:00:07  0:00:07 --:--:-- 1331k\n",
      "  % Total    % Received % Xferd  Average Speed   Time    Time     Time  Current\n",
      "                                 Dload  Upload   Total   Spent    Left  Speed\n",
      "  0     0    0     0    0     0      0      0 --:--:-- --:--:-- --:--:--     0"
     ]
    },
    {
     "name": "stdout",
     "output_type": "stream",
     "text": [
      "Saved output to /Users/dhruvjatkar/Desktop/cs3200_project/iEC042_1314.xml\n"
     ]
    },
    {
     "name": "stderr",
     "output_type": "stream",
     "text": [
      "100 9954k  100 9954k    0     0   658k      0  0:00:15  0:00:15 --:--:-- 1511k\n",
      "  % Total    % Received % Xferd  Average Speed   Time    Time     Time  Current\n",
      "                                 Dload  Upload   Total   Spent    Left  Speed\n",
      "  0     0    0     0    0     0      0      0 --:--:-- --:--:-- --:--:--     0"
     ]
    },
    {
     "name": "stdout",
     "output_type": "stream",
     "text": [
      "Saved output to /Users/dhruvjatkar/Desktop/cs3200_project/iEC1344_C.xml\n"
     ]
    },
    {
     "name": "stderr",
     "output_type": "stream",
     "text": [
      "100 10.1M  100 10.1M    0     0  1818k      0  0:00:05  0:00:05 --:--:-- 2328k\n",
      "  % Total    % Received % Xferd  Average Speed   Time    Time     Time  Current\n",
      "                                 Dload  Upload   Total   Spent    Left  Speed\n",
      "  0     0    0     0    0     0      0      0 --:--:-- --:--:-- --:--:--     0"
     ]
    },
    {
     "name": "stdout",
     "output_type": "stream",
     "text": [
      "Saved output to /Users/dhruvjatkar/Desktop/cs3200_project/iEC1349_Crooks.xml\n"
     ]
    },
    {
     "name": "stderr",
     "output_type": "stream",
     "text": [
      "100 10.0M  100 10.0M    0     0  1907k      0  0:00:05  0:00:05 --:--:-- 2276k\n",
      "  % Total    % Received % Xferd  Average Speed   Time    Time     Time  Current\n",
      "                                 Dload  Upload   Total   Spent    Left  Speed\n",
      "  0     0    0     0    0     0      0      0 --:--:-- --:--:-- --:--:--     0"
     ]
    },
    {
     "name": "stdout",
     "output_type": "stream",
     "text": [
      "Saved output to /Users/dhruvjatkar/Desktop/cs3200_project/iEC1356_Bl21DE3.xml\n"
     ]
    },
    {
     "name": "stderr",
     "output_type": "stream",
     "text": [
      "100 10.1M  100 10.1M    0     0   921k      0  0:00:11  0:00:11 --:--:-- 1056k\n",
      "  % Total    % Received % Xferd  Average Speed   Time    Time     Time  Current\n",
      "                                 Dload  Upload   Total   Spent    Left  Speed\n",
      "  0     0    0     0    0     0      0      0 --:--:-- --:--:-- --:--:--     0"
     ]
    },
    {
     "name": "stdout",
     "output_type": "stream",
     "text": [
      "Saved output to /Users/dhruvjatkar/Desktop/cs3200_project/iEC1364_W.xml\n"
     ]
    },
    {
     "name": "stderr",
     "output_type": "stream",
     "text": [
      "100  9.8M  100  9.8M    0     0  1481k      0  0:00:06  0:00:06 --:--:-- 1963k\n",
      "  % Total    % Received % Xferd  Average Speed   Time    Time     Time  Current\n",
      "                                 Dload  Upload   Total   Spent    Left  Speed\n",
      "  0     0    0     0    0     0      0      0 --:--:-- --:--:-- --:--:--     0"
     ]
    },
    {
     "name": "stdout",
     "output_type": "stream",
     "text": [
      "Saved output to /Users/dhruvjatkar/Desktop/cs3200_project/iEC1368_DH5a.xml\n"
     ]
    },
    {
     "name": "stderr",
     "output_type": "stream",
     "text": [
      "100 10.3M  100 10.3M    0     0  1863k      0  0:00:05  0:00:05 --:--:-- 2233k\n",
      "  % Total    % Received % Xferd  Average Speed   Time    Time     Time  Current\n",
      "                                 Dload  Upload   Total   Spent    Left  Speed\n",
      "  0     0    0     0    0     0      0      0 --:--:-- --:--:-- --:--:--     0"
     ]
    },
    {
     "name": "stdout",
     "output_type": "stream",
     "text": [
      "Saved output to /Users/dhruvjatkar/Desktop/cs3200_project/iEC1372_W3110.xml\n"
     ]
    },
    {
     "name": "stderr",
     "output_type": "stream",
     "text": [
      "100 11.0M  100 11.0M    0     0  1971k      0  0:00:05  0:00:05 --:--:-- 2435k\n",
      "  % Total    % Received % Xferd  Average Speed   Time    Time     Time  Current\n",
      "                                 Dload  Upload   Total   Spent    Left  Speed\n",
      "  0     0    0     0    0     0      0      0 --:--:-- --:--:-- --:--:--     0"
     ]
    },
    {
     "name": "stdout",
     "output_type": "stream",
     "text": [
      "Saved output to /Users/dhruvjatkar/Desktop/cs3200_project/iEC55989_1330.xml\n"
     ]
    },
    {
     "name": "stderr",
     "output_type": "stream",
     "text": [
      "100 10.1M  100 10.1M    0     0  1400k      0  0:00:07  0:00:07 --:--:-- 1941k\n",
      "  % Total    % Received % Xferd  Average Speed   Time    Time     Time  Current\n",
      "                                 Dload  Upload   Total   Spent    Left  Speed\n",
      "  0     0    0     0    0     0      0      0 --:--:-- --:--:-- --:--:--     0"
     ]
    },
    {
     "name": "stdout",
     "output_type": "stream",
     "text": [
      "Saved output to /Users/dhruvjatkar/Desktop/cs3200_project/iECABU_c1320.xml\n"
     ]
    },
    {
     "name": "stderr",
     "output_type": "stream",
     "text": [
      "100 10.1M  100 10.1M    0     0   602k      0  0:00:17  0:00:17 --:--:-- 1049k\n",
      "  % Total    % Received % Xferd  Average Speed   Time    Time     Time  Current\n",
      "                                 Dload  Upload   Total   Spent    Left  Speed\n",
      "  0     0    0     0    0     0      0      0 --:--:-- --:--:-- --:--:--     0"
     ]
    },
    {
     "name": "stdout",
     "output_type": "stream",
     "text": [
      "Saved output to /Users/dhruvjatkar/Desktop/cs3200_project/iECB_1328.xml\n"
     ]
    },
    {
     "name": "stderr",
     "output_type": "stream",
     "text": [
      "100 10.3M  100 10.3M    0     0   911k      0  0:00:11  0:00:11 --:--:--  861k\n",
      "  % Total    % Received % Xferd  Average Speed   Time    Time     Time  Current\n",
      "                                 Dload  Upload   Total   Spent    Left  Speed\n",
      "  0     0    0     0    0     0      0      0 --:--:-- --:--:-- --:--:--     0"
     ]
    },
    {
     "name": "stdout",
     "output_type": "stream",
     "text": [
      "Saved output to /Users/dhruvjatkar/Desktop/cs3200_project/iECBD_1354.xml\n"
     ]
    },
    {
     "name": "stderr",
     "output_type": "stream",
     "text": [
      "100 10.1M  100 10.1M    0     0   899k      0  0:00:11  0:00:11 --:--:-- 1024k\n",
      "  % Total    % Received % Xferd  Average Speed   Time    Time     Time  Current\n",
      "                                 Dload  Upload   Total   Spent    Left  Speed\n",
      "  0     0    0     0    0     0      0      0 --:--:-- --:--:-- --:--:--     0"
     ]
    },
    {
     "name": "stdout",
     "output_type": "stream",
     "text": [
      "Saved output to /Users/dhruvjatkar/Desktop/cs3200_project/iECD_1391.xml\n"
     ]
    },
    {
     "name": "stderr",
     "output_type": "stream",
     "text": [
      "100 10.2M  100 10.2M    0     0   798k      0  0:00:13  0:00:13 --:--:-- 1275k\n",
      "  % Total    % Received % Xferd  Average Speed   Time    Time     Time  Current\n",
      "                                 Dload  Upload   Total   Spent    Left  Speed\n",
      "  0     0    0     0    0     0      0      0 --:--:-- --:--:-- --:--:--     0"
     ]
    },
    {
     "name": "stdout",
     "output_type": "stream",
     "text": [
      "Saved output to /Users/dhruvjatkar/Desktop/cs3200_project/iECDH10B_1368.xml\n"
     ]
    },
    {
     "name": "stderr",
     "output_type": "stream",
     "text": [
      "100 10.3M  100 10.3M    0     0  2227k      0  0:00:04  0:00:04 --:--:-- 2431k\n",
      "  % Total    % Received % Xferd  Average Speed   Time    Time     Time  Current\n",
      "                                 Dload  Upload   Total   Spent    Left  Speed\n",
      "  0     0    0     0    0     0      0      0 --:--:-- --:--:-- --:--:--     0"
     ]
    },
    {
     "name": "stdout",
     "output_type": "stream",
     "text": [
      "Saved output to /Users/dhruvjatkar/Desktop/cs3200_project/iEcDH1_1363.xml\n"
     ]
    },
    {
     "name": "stderr",
     "output_type": "stream",
     "text": [
      "100 10.6M  100 10.6M    0     0  3247k      0  0:00:03  0:00:03 --:--:-- 3254k\n",
      "  % Total    % Received % Xferd  Average Speed   Time    Time     Time  Current\n",
      "                                 Dload  Upload   Total   Spent    Left  Speed\n",
      "  0     0    0     0    0     0      0      0 --:--:-- --:--:-- --:--:--     0"
     ]
    },
    {
     "name": "stdout",
     "output_type": "stream",
     "text": [
      "Saved output to /Users/dhruvjatkar/Desktop/cs3200_project/iECDH1ME8569_1439.xml\n"
     ]
    },
    {
     "name": "stderr",
     "output_type": "stream",
     "text": [
      "100 10.2M  100 10.2M    0     0  2538k      0  0:00:04  0:00:04 --:--:-- 2602k\n",
      "  % Total    % Received % Xferd  Average Speed   Time    Time     Time  Current\n",
      "                                 Dload  Upload   Total   Spent    Left  Speed\n",
      "  0     0    0     0    0     0      0      0 --:--:-- --:--:-- --:--:--     0"
     ]
    },
    {
     "name": "stdout",
     "output_type": "stream",
     "text": [
      "Saved output to /Users/dhruvjatkar/Desktop/cs3200_project/iEcE24377_1341.xml\n"
     ]
    },
    {
     "name": "stderr",
     "output_type": "stream",
     "text": [
      "100 10.7M  100 10.7M    0     0  1443k      0  0:00:07  0:00:07 --:--:-- 1389k\n",
      "  % Total    % Received % Xferd  Average Speed   Time    Time     Time  Current\n",
      "                                 Dload  Upload   Total   Spent    Left  Speed\n",
      "  0     0    0     0    0     0      0      0 --:--:-- --:--:-- --:--:--     0"
     ]
    },
    {
     "name": "stdout",
     "output_type": "stream",
     "text": [
      "Saved output to /Users/dhruvjatkar/Desktop/cs3200_project/iECED1_1282.xml\n"
     ]
    },
    {
     "name": "stderr",
     "output_type": "stream",
     "text": [
      "100  9.9M  100  9.9M    0     0   651k      0  0:00:15  0:00:15 --:--:-- 1717k\n",
      "  % Total    % Received % Xferd  Average Speed   Time    Time     Time  Current\n",
      "                                 Dload  Upload   Total   Spent    Left  Speed\n",
      "  0     0    0     0    0     0      0      0 --:--:-- --:--:-- --:--:--     0"
     ]
    },
    {
     "name": "stdout",
     "output_type": "stream",
     "text": [
      "Saved output to /Users/dhruvjatkar/Desktop/cs3200_project/iECH74115_1262.xml\n"
     ]
    },
    {
     "name": "stderr",
     "output_type": "stream",
     "text": [
      "100 10.1M  100 10.1M    0     0  2045k      0  0:00:05  0:00:05 --:--:-- 2266k\n",
      "  % Total    % Received % Xferd  Average Speed   Time    Time     Time  Current\n",
      "                                 Dload  Upload   Total   Spent    Left  Speed\n",
      "  0     0    0     0    0     0      0      0 --:--:-- --:--:-- --:--:--     0"
     ]
    },
    {
     "name": "stdout",
     "output_type": "stream",
     "text": [
      "Saved output to /Users/dhruvjatkar/Desktop/cs3200_project/iEcHS_1320.xml\n"
     ]
    },
    {
     "name": "stderr",
     "output_type": "stream",
     "text": [
      "100 10.9M  100 10.9M    0     0  1608k      0  0:00:06  0:00:06 --:--:-- 2290k\n",
      "  % Total    % Received % Xferd  Average Speed   Time    Time     Time  Current\n",
      "                                 Dload  Upload   Total   Spent    Left  Speed\n",
      "  0     0    0     0    0     0      0      0 --:--:-- --:--:-- --:--:--     0"
     ]
    },
    {
     "name": "stdout",
     "output_type": "stream",
     "text": [
      "Saved output to /Users/dhruvjatkar/Desktop/cs3200_project/iECIAI1_1343.xml\n"
     ]
    },
    {
     "name": "stderr",
     "output_type": "stream",
     "text": [
      "100 10.9M  100 10.9M    0     0  1820k      0  0:00:06  0:00:06 --:--:-- 2204k\n",
      "  % Total    % Received % Xferd  Average Speed   Time    Time     Time  Current\n",
      "                                 Dload  Upload   Total   Spent    Left  Speed\n",
      "  0     0    0     0    0     0      0      0 --:--:-- --:--:-- --:--:--     0"
     ]
    },
    {
     "name": "stdout",
     "output_type": "stream",
     "text": [
      "Saved output to /Users/dhruvjatkar/Desktop/cs3200_project/iECIAI39_1322.xml\n"
     ]
    },
    {
     "name": "stderr",
     "output_type": "stream",
     "text": [
      "100 10.0M  100 10.0M    0     0  1323k      0  0:00:07  0:00:07 --:--:-- 1889k\n",
      "  % Total    % Received % Xferd  Average Speed   Time    Time     Time  Current\n",
      "                                 Dload  Upload   Total   Spent    Left  Speed\n",
      "  0     0    0     0    0     0      0      0 --:--:-- --:--:-- --:--:--     0"
     ]
    },
    {
     "name": "stdout",
     "output_type": "stream",
     "text": [
      "Saved output to /Users/dhruvjatkar/Desktop/cs3200_project/iECNA114_1301.xml\n"
     ]
    },
    {
     "name": "stderr",
     "output_type": "stream",
     "text": [
      "100 10.1M  100 10.1M    0     0  1342k      0  0:00:07  0:00:07 --:--:-- 1809k\n",
      "  % Total    % Received % Xferd  Average Speed   Time    Time     Time  Current\n",
      "                                 Dload  Upload   Total   Spent    Left  Speed\n",
      "  0     0    0     0    0     0      0      0 --:--:-- --:--:-- --:--:--     0"
     ]
    },
    {
     "name": "stdout",
     "output_type": "stream",
     "text": [
      "Saved output to /Users/dhruvjatkar/Desktop/cs3200_project/iECO103_1326.xml\n"
     ]
    },
    {
     "name": "stderr",
     "output_type": "stream",
     "text": [
      "100 10.1M  100 10.1M    0     0  1443k      0  0:00:07  0:00:07 --:--:-- 1734k\n",
      "  % Total    % Received % Xferd  Average Speed   Time    Time     Time  Current\n",
      "                                 Dload  Upload   Total   Spent    Left  Speed\n",
      "  0     0    0     0    0     0      0      0 --:--:-- --:--:-- --:--:--     0"
     ]
    },
    {
     "name": "stdout",
     "output_type": "stream",
     "text": [
      "Saved output to /Users/dhruvjatkar/Desktop/cs3200_project/iECO111_1330.xml\n"
     ]
    },
    {
     "name": "stderr",
     "output_type": "stream",
     "text": [
      "100 10.2M  100 10.2M    0     0  1549k      0  0:00:06  0:00:06 --:--:-- 2060k\n",
      "  % Total    % Received % Xferd  Average Speed   Time    Time     Time  Current\n",
      "                                 Dload  Upload   Total   Spent    Left  Speed\n",
      "  0     0    0     0    0     0      0      0 --:--:-- --:--:-- --:--:--     0"
     ]
    },
    {
     "name": "stdout",
     "output_type": "stream",
     "text": [
      "Saved output to /Users/dhruvjatkar/Desktop/cs3200_project/iECO26_1355.xml\n"
     ]
    },
    {
     "name": "stderr",
     "output_type": "stream",
     "text": [
      "100 10.0M  100 10.0M    0     0  1761k      0  0:00:05  0:00:05 --:--:-- 2101k\n",
      "  % Total    % Received % Xferd  Average Speed   Time    Time     Time  Current\n",
      "                                 Dload  Upload   Total   Spent    Left  Speed\n",
      "  0     0    0     0    0     0      0      0 --:--:-- --:--:-- --:--:--     0"
     ]
    },
    {
     "name": "stdout",
     "output_type": "stream",
     "text": [
      "Saved output to /Users/dhruvjatkar/Desktop/cs3200_project/iECOK1_1307.xml\n"
     ]
    },
    {
     "name": "stderr",
     "output_type": "stream",
     "text": [
      "100 10.4M  100 10.4M    0     0  2085k      0  0:00:05  0:00:05 --:--:-- 2256k\n",
      "  % Total    % Received % Xferd  Average Speed   Time    Time     Time  Current\n",
      "                                 Dload  Upload   Total   Spent    Left  Speed\n",
      "  0     0    0     0    0     0      0      0 --:--:-- --:--:-- --:--:--     0"
     ]
    },
    {
     "name": "stdout",
     "output_type": "stream",
     "text": [
      "Saved output to /Users/dhruvjatkar/Desktop/cs3200_project/iEcolC_1368.xml\n"
     ]
    },
    {
     "name": "stderr",
     "output_type": "stream",
     "text": [
      "100  9.9M  100  9.9M    0     0  1328k      0  0:00:07  0:00:07 --:--:-- 1749k\n",
      "  % Total    % Received % Xferd  Average Speed   Time    Time     Time  Current\n",
      "                                 Dload  Upload   Total   Spent    Left  Speed\n",
      "  0     0    0     0    0     0      0      0 --:--:-- --:--:-- --:--:--     0"
     ]
    },
    {
     "name": "stdout",
     "output_type": "stream",
     "text": [
      "Saved output to /Users/dhruvjatkar/Desktop/cs3200_project/iECP_1309.xml\n"
     ]
    },
    {
     "name": "stderr",
     "output_type": "stream",
     "text": [
      "100  9.8M  100  9.8M    0     0   720k      0  0:00:14  0:00:14 --:--:-- 1947k\n",
      "  % Total    % Received % Xferd  Average Speed   Time    Time     Time  Current\n",
      "                                 Dload  Upload   Total   Spent    Left  Speed\n",
      "  0     0    0     0    0     0      0      0 --:--:-- --:--:-- --:--:--     0"
     ]
    },
    {
     "name": "stdout",
     "output_type": "stream",
     "text": [
      "Saved output to /Users/dhruvjatkar/Desktop/cs3200_project/iECs_1301.xml\n"
     ]
    },
    {
     "name": "stderr",
     "output_type": "stream",
     "text": [
      "100 10.8M  100 10.8M    0     0  1888k      0  0:00:05  0:00:05 --:--:-- 2284k\n",
      "  % Total    % Received % Xferd  Average Speed   Time    Time     Time  Current\n",
      "                                 Dload  Upload   Total   Spent    Left  Speed\n",
      "  0     0    0     0    0     0      0      0 --:--:-- --:--:-- --:--:--     0"
     ]
    },
    {
     "name": "stdout",
     "output_type": "stream",
     "text": [
      "Saved output to /Users/dhruvjatkar/Desktop/cs3200_project/iECS88_1305.xml\n"
     ]
    },
    {
     "name": "stderr",
     "output_type": "stream",
     "text": [
      "100 10.1M  100 10.1M    0     0  1677k      0  0:00:06  0:00:06 --:--:-- 2007k\n",
      "  % Total    % Received % Xferd  Average Speed   Time    Time     Time  Current\n",
      "                                 Dload  Upload   Total   Spent    Left  Speed\n",
      "  0     0    0     0    0     0      0      0 --:--:-- --:--:-- --:--:--     0"
     ]
    },
    {
     "name": "stdout",
     "output_type": "stream",
     "text": [
      "Saved output to /Users/dhruvjatkar/Desktop/cs3200_project/iECSE_1348.xml\n"
     ]
    },
    {
     "name": "stderr",
     "output_type": "stream",
     "text": [
      "100 10.0M  100 10.0M    0     0  1685k      0  0:00:06  0:00:06 --:--:-- 1995k\n",
      "  % Total    % Received % Xferd  Average Speed   Time    Time     Time  Current\n",
      "                                 Dload  Upload   Total   Spent    Left  Speed\n",
      "  0     0    0     0    0     0      0      0 --:--:-- --:--:-- --:--:--     0"
     ]
    },
    {
     "name": "stdout",
     "output_type": "stream",
     "text": [
      "Saved output to /Users/dhruvjatkar/Desktop/cs3200_project/iECSF_1327.xml\n"
     ]
    },
    {
     "name": "stderr",
     "output_type": "stream",
     "text": [
      "100 10.1M  100 10.1M    0     0  1854k      0  0:00:05  0:00:05 --:--:-- 2216k\n",
      "  % Total    % Received % Xferd  Average Speed   Time    Time     Time  Current\n",
      "                                 Dload  Upload   Total   Spent    Left  Speed\n",
      "  0     0    0     0    0     0      0      0 --:--:-- --:--:-- --:--:--     0"
     ]
    },
    {
     "name": "stdout",
     "output_type": "stream",
     "text": [
      "Saved output to /Users/dhruvjatkar/Desktop/cs3200_project/iEcSMS35_1347.xml\n"
     ]
    },
    {
     "name": "stderr",
     "output_type": "stream",
     "text": [
      "100  9.9M  100  9.9M    0     0  2354k      0  0:00:04  0:00:04 --:--:-- 2471k\n"
     ]
    },
    {
     "name": "stdout",
     "output_type": "stream",
     "text": [
      "Saved output to /Users/dhruvjatkar/Desktop/cs3200_project/iECSP_1301.xml\n"
     ]
    },
    {
     "name": "stderr",
     "output_type": "stream",
     "text": [
      "  % Total    % Received % Xferd  Average Speed   Time    Time     Time  Current\n",
      "                                 Dload  Upload   Total   Spent    Left  Speed\n",
      "100 10.9M  100 10.9M    0     0  1268k      0  0:00:08  0:00:08 --:--:-- 1777k\n",
      "  % Total    % Received % Xferd  Average Speed   Time    Time     Time  Current\n",
      "                                 Dload  Upload   Total   Spent    Left  Speed\n",
      "  0     0    0     0    0     0      0      0 --:--:-- --:--:-- --:--:--     0"
     ]
    },
    {
     "name": "stdout",
     "output_type": "stream",
     "text": [
      "Saved output to /Users/dhruvjatkar/Desktop/cs3200_project/iECUMN_1333.xml\n"
     ]
    },
    {
     "name": "stderr",
     "output_type": "stream",
     "text": [
      "100 10.2M  100 10.2M    0     0  2256k      0  0:00:04  0:00:04 --:--:-- 2258k\n",
      "  % Total    % Received % Xferd  Average Speed   Time    Time     Time  Current\n",
      "                                 Dload  Upload   Total   Spent    Left  Speed\n",
      "  0     0    0     0    0     0      0      0 --:--:-- --:--:-- --:--:--     0"
     ]
    },
    {
     "name": "stdout",
     "output_type": "stream",
     "text": [
      "Saved output to /Users/dhruvjatkar/Desktop/cs3200_project/iECW_1372.xml\n"
     ]
    },
    {
     "name": "stderr",
     "output_type": "stream",
     "text": [
      "100 5779k  100 5779k    0     0  1265k      0  0:00:04  0:00:04 --:--:-- 1327k\n",
      "  % Total    % Received % Xferd  Average Speed   Time    Time     Time  Current\n",
      "                                 Dload  Upload   Total   Spent    Left  Speed\n",
      "  0     0    0     0    0     0      0      0 --:--:-- --:--:-- --:--:--     0"
     ]
    },
    {
     "name": "stdout",
     "output_type": "stream",
     "text": [
      "Saved output to /Users/dhruvjatkar/Desktop/cs3200_project/iEK1008.xml\n"
     ]
    },
    {
     "name": "stderr",
     "output_type": "stream",
     "text": [
      "100 10.5M  100 10.5M    0     0  1741k      0  0:00:06  0:00:06 --:--:-- 2003k\n",
      "  % Total    % Received % Xferd  Average Speed   Time    Time     Time  Current\n",
      "                                 Dload  Upload   Total   Spent    Left  Speed\n",
      "  0     0    0     0    0     0      0      0 --:--:-- --:--:-- --:--:--     0"
     ]
    },
    {
     "name": "stdout",
     "output_type": "stream",
     "text": [
      "Saved output to /Users/dhruvjatkar/Desktop/cs3200_project/iEKO11_1354.xml\n"
     ]
    },
    {
     "name": "stderr",
     "output_type": "stream",
     "text": [
      "100 10.9M  100 10.9M    0     0  2093k      0  0:00:05  0:00:05 --:--:-- 2478k\n"
     ]
    },
    {
     "name": "stdout",
     "output_type": "stream",
     "text": [
      "Saved output to /Users/dhruvjatkar/Desktop/cs3200_project/iETEC_1333.xml\n"
     ]
    },
    {
     "name": "stderr",
     "output_type": "stream",
     "text": [
      "  % Total    % Received % Xferd  Average Speed   Time    Time     Time  Current\n",
      "                                 Dload  Upload   Total   Spent    Left  Speed\n",
      "100  9.9M  100  9.9M    0     0  1576k      0  0:00:06  0:00:06 --:--:-- 2132k\n",
      "  % Total    % Received % Xferd  Average Speed   Time    Time     Time  Current\n",
      "                                 Dload  Upload   Total   Spent    Left  Speed\n",
      "  0     0    0     0    0     0      0      0 --:--:-- --:--:-- --:--:--     0"
     ]
    },
    {
     "name": "stdout",
     "output_type": "stream",
     "text": [
      "Saved output to /Users/dhruvjatkar/Desktop/cs3200_project/iG2583_1286.xml\n"
     ]
    },
    {
     "name": "stderr",
     "output_type": "stream",
     "text": [
      "100 3834k  100 3834k    0     0  1497k      0  0:00:02  0:00:02 --:--:-- 1501k\n",
      "  % Total    % Received % Xferd  Average Speed   Time    Time     Time  Current\n",
      "                                 Dload  Upload   Total   Spent    Left  Speed\n",
      "  0     0    0     0    0     0      0      0 --:--:-- --:--:-- --:--:--     0"
     ]
    },
    {
     "name": "stdout",
     "output_type": "stream",
     "text": [
      "Saved output to /Users/dhruvjatkar/Desktop/cs3200_project/iHN637.xml\n"
     ]
    },
    {
     "name": "stderr",
     "output_type": "stream",
     "text": [
      "100 2750k  100 2750k    0     0  1307k      0  0:00:02  0:00:02 --:--:-- 1311k\n",
      "  % Total    % Received % Xferd  Average Speed   Time    Time     Time  Current\n",
      "                                 Dload  Upload   Total   Spent    Left  Speed\n",
      "  0     0    0     0    0     0      0      0 --:--:-- --:--:-- --:--:--     0"
     ]
    },
    {
     "name": "stdout",
     "output_type": "stream",
     "text": [
      "Saved output to /Users/dhruvjatkar/Desktop/cs3200_project/iIS312.xml\n"
     ]
    },
    {
     "name": "stderr",
     "output_type": "stream",
     "text": [
      "100 2749k  100 2749k    0     0   841k      0  0:00:03  0:00:03 --:--:--  843k\n",
      "  % Total    % Received % Xferd  Average Speed   Time    Time     Time  Current\n",
      "                                 Dload  Upload   Total   Spent    Left  Speed\n",
      "  0     0    0     0    0     0      0      0 --:--:-- --:--:-- --:--:--     0"
     ]
    },
    {
     "name": "stdout",
     "output_type": "stream",
     "text": [
      "Saved output to /Users/dhruvjatkar/Desktop/cs3200_project/iIS312_Amastigote.xml\n"
     ]
    },
    {
     "name": "stderr",
     "output_type": "stream",
     "text": [
      "100 2750k  100 2750k    0     0   814k      0  0:00:03  0:00:03 --:--:--  816k\n",
      "  % Total    % Received % Xferd  Average Speed   Time    Time     Time  Current\n",
      "                                 Dload  Upload   Total   Spent    Left  Speed\n",
      "  0     0    0     0    0     0      0      0 --:--:-- --:--:-- --:--:--     0"
     ]
    },
    {
     "name": "stdout",
     "output_type": "stream",
     "text": [
      "Saved output to /Users/dhruvjatkar/Desktop/cs3200_project/iIS312_Epimastigote.xml\n"
     ]
    },
    {
     "name": "stderr",
     "output_type": "stream",
     "text": [
      "100 2753k  100 2753k    0     0   522k      0  0:00:05  0:00:05 --:--:--  564k\n",
      "  % Total    % Received % Xferd  Average Speed   Time    Time     Time  Current\n",
      "                                 Dload  Upload   Total   Spent    Left  Speed\n",
      "  0     0    0     0    0     0      0      0 --:--:-- --:--:-- --:--:--     0"
     ]
    },
    {
     "name": "stdout",
     "output_type": "stream",
     "text": [
      "Saved output to /Users/dhruvjatkar/Desktop/cs3200_project/iIS312_Trypomastigote.xml\n"
     ]
    },
    {
     "name": "stderr",
     "output_type": "stream",
     "text": [
      "100 2684k  100 2684k    0     0   870k      0  0:00:03  0:00:03 --:--:--  872k\n",
      "  % Total    % Received % Xferd  Average Speed   Time    Time     Time  Current\n",
      "                                 Dload  Upload   Total   Spent    Left  Speed\n",
      "  0     0    0     0    0     0      0      0 --:--:-- --:--:-- --:--:--     0"
     ]
    },
    {
     "name": "stdout",
     "output_type": "stream",
     "text": [
      "Saved output to /Users/dhruvjatkar/Desktop/cs3200_project/iIT341.xml\n"
     ]
    },
    {
     "name": "stderr",
     "output_type": "stream",
     "text": [
      "100 4191k  100 4191k    0     0   414k      0  0:00:10  0:00:10 --:--:--  611k\n",
      "  % Total    % Received % Xferd  Average Speed   Time    Time     Time  Current\n",
      "                                 Dload  Upload   Total   Spent    Left  Speed\n",
      "  0     0    0     0    0     0      0      0 --:--:-- --:--:-- --:--:--     0"
     ]
    },
    {
     "name": "stdout",
     "output_type": "stream",
     "text": [
      "Saved output to /Users/dhruvjatkar/Desktop/cs3200_project/iJB785.xml\n"
     ]
    },
    {
     "name": "stderr",
     "output_type": "stream",
     "text": [
      "100 10.2M  100 10.2M    0     0  1207k      0  0:00:08  0:00:08 --:--:-- 1924k\n",
      "  % Total    % Received % Xferd  Average Speed   Time    Time     Time  Current\n",
      "                                 Dload  Upload   Total   Spent    Left  Speed\n",
      "  0     0    0     0    0     0      0      0 --:--:-- --:--:-- --:--:--     0"
     ]
    },
    {
     "name": "stdout",
     "output_type": "stream",
     "text": [
      "Saved output to /Users/dhruvjatkar/Desktop/cs3200_project/iJN1463.xml\n"
     ]
    },
    {
     "name": "stderr",
     "output_type": "stream",
     "text": [
      "100 4285k  100 4285k    0     0  1207k      0  0:00:03  0:00:03 --:--:-- 1208k\n",
      "  % Total    % Received % Xferd  Average Speed   Time    Time     Time  Current\n",
      "                                 Dload  Upload   Total   Spent    Left  Speed\n",
      "  0     0    0     0    0     0      0      0 --:--:-- --:--:-- --:--:--     0"
     ]
    },
    {
     "name": "stdout",
     "output_type": "stream",
     "text": [
      "Saved output to /Users/dhruvjatkar/Desktop/cs3200_project/iJN678.xml\n"
     ]
    },
    {
     "name": "stderr",
     "output_type": "stream",
     "text": [
      "100 4996k  100 4996k    0     0  1395k      0  0:00:03  0:00:03 --:--:-- 1398k\n",
      "  % Total    % Received % Xferd  Average Speed   Time    Time     Time  Current\n",
      "                                 Dload  Upload   Total   Spent    Left  Speed\n",
      "  0     0    0     0    0     0      0      0 --:--:-- --:--:-- --:--:--     0"
     ]
    },
    {
     "name": "stdout",
     "output_type": "stream",
     "text": [
      "Saved output to /Users/dhruvjatkar/Desktop/cs3200_project/iJN746.xml\n"
     ]
    },
    {
     "name": "stderr",
     "output_type": "stream",
     "text": [
      "100 10.4M  100 10.4M    0     0  2002k      0  0:00:05  0:00:05 --:--:-- 2373k\n",
      "  % Total    % Received % Xferd  Average Speed   Time    Time     Time  Current\n",
      "                                 Dload  Upload   Total   Spent    Left  Speed\n",
      "  0     0    0     0    0     0      0      0 --:--:-- --:--:-- --:--:--     0"
     ]
    },
    {
     "name": "stdout",
     "output_type": "stream",
     "text": [
      "Saved output to /Users/dhruvjatkar/Desktop/cs3200_project/iJO1366.xml\n"
     ]
    },
    {
     "name": "stderr",
     "output_type": "stream",
     "text": [
      "100 5379k  100 5379k    0     0   931k      0  0:00:05  0:00:05 --:--:--  919k\n",
      "  % Total    % Received % Xferd  Average Speed   Time    Time     Time  Current\n",
      "                                 Dload  Upload   Total   Spent    Left  Speed\n",
      "  0     0    0     0    0     0      0      0 --:--:-- --:--:-- --:--:--     0"
     ]
    },
    {
     "name": "stdout",
     "output_type": "stream",
     "text": [
      "Saved output to /Users/dhruvjatkar/Desktop/cs3200_project/iJR904.xml\n"
     ]
    },
    {
     "name": "stderr",
     "output_type": "stream",
     "text": [
      "100 11.6M  100 11.6M    0     0  1069k      0  0:00:11  0:00:11 --:--:-- 1837k\n",
      "  % Total    % Received % Xferd  Average Speed   Time    Time     Time  Current\n",
      "                                 Dload  Upload   Total   Spent    Left  Speed\n",
      "  0     0    0     0    0     0      0      0 --:--:-- --:--:-- --:--:--     0"
     ]
    },
    {
     "name": "stdout",
     "output_type": "stream",
     "text": [
      "Saved output to /Users/dhruvjatkar/Desktop/cs3200_project/iLB1027_lipid.xml\n"
     ]
    },
    {
     "name": "stderr",
     "output_type": "stream",
     "text": [
      "100 10.8M  100 10.8M    0     0  2260k      0  0:00:04  0:00:04 --:--:-- 2530k\n"
     ]
    },
    {
     "name": "stdout",
     "output_type": "stream",
     "text": [
      "Saved output to /Users/dhruvjatkar/Desktop/cs3200_project/iLF82_1304.xml\n"
     ]
    },
    {
     "name": "stderr",
     "output_type": "stream",
     "text": [
      "  % Total    % Received % Xferd  Average Speed   Time    Time     Time  Current\n",
      "                                 Dload  Upload   Total   Spent    Left  Speed\n",
      "100 3128k  100 3128k    0     0  1271k      0  0:00:02  0:00:02 --:--:-- 1274k\n",
      "  % Total    % Received % Xferd  Average Speed   Time    Time     Time  Current\n",
      "                                 Dload  Upload   Total   Spent    Left  Speed\n",
      "  0     0    0     0    0     0      0      0 --:--:-- --:--:-- --:--:--     0"
     ]
    },
    {
     "name": "stdout",
     "output_type": "stream",
     "text": [
      "Saved output to /Users/dhruvjatkar/Desktop/cs3200_project/iLJ478.xml\n"
     ]
    },
    {
     "name": "stderr",
     "output_type": "stream",
     "text": [
      "100 10.8M  100 10.8M    0     0  1669k      0  0:00:06  0:00:06 --:--:-- 1778k\n",
      "  % Total    % Received % Xferd  Average Speed   Time    Time     Time  Current\n",
      "                                 Dload  Upload   Total   Spent    Left  Speed\n",
      "  0     0    0     0    0     0      0      0 --:--:-- --:--:-- --:--:--     0"
     ]
    },
    {
     "name": "stdout",
     "output_type": "stream",
     "text": [
      "Saved output to /Users/dhruvjatkar/Desktop/cs3200_project/iML1515.xml\n"
     ]
    },
    {
     "name": "stderr",
     "output_type": "stream",
     "text": [
      "100 13.5M  100 13.5M    0     0  1643k      0  0:00:08  0:00:08 --:--:-- 2859k\n",
      "  % Total    % Received % Xferd  Average Speed   Time    Time     Time  Current\n",
      "                                 Dload  Upload   Total   Spent    Left  Speed\n",
      "  0     0    0     0    0     0      0      0 --:--:-- --:--:-- --:--:--     0"
     ]
    },
    {
     "name": "stdout",
     "output_type": "stream",
     "text": [
      "Saved output to /Users/dhruvjatkar/Desktop/cs3200_project/iMM1415.xml\n"
     ]
    },
    {
     "name": "stderr",
     "output_type": "stream",
     "text": [
      "100 7094k  100 7094k    0     0  1755k      0  0:00:04  0:00:04 --:--:-- 1758k\n",
      "  % Total    % Received % Xferd  Average Speed   Time    Time     Time  Current\n",
      "                                 Dload  Upload   Total   Spent    Left  Speed\n",
      "  0     0    0     0    0     0      0      0 --:--:-- --:--:-- --:--:--     0"
     ]
    },
    {
     "name": "stdout",
     "output_type": "stream",
     "text": [
      "Saved output to /Users/dhruvjatkar/Desktop/cs3200_project/iMM904.xml\n"
     ]
    },
    {
     "name": "stderr",
     "output_type": "stream",
     "text": [
      "100 6025k  100 6025k    0     0  1659k      0  0:00:03  0:00:03 --:--:-- 1663k\n",
      "  % Total    % Received % Xferd  Average Speed   Time    Time     Time  Current\n",
      "                                 Dload  Upload   Total   Spent    Left  Speed\n",
      "  0     0    0     0    0     0      0      0 --:--:-- --:--:-- --:--:--     0"
     ]
    },
    {
     "name": "stdout",
     "output_type": "stream",
     "text": [
      "Saved output to /Users/dhruvjatkar/Desktop/cs3200_project/iND750.xml\n"
     ]
    },
    {
     "name": "stderr",
     "output_type": "stream",
     "text": [
      "100 3412k  100 3412k    0     0  1132k      0  0:00:03  0:00:03 --:--:-- 1135k\n",
      "  % Total    % Received % Xferd  Average Speed   Time    Time     Time  Current\n",
      "                                 Dload  Upload   Total   Spent    Left  Speed\n",
      "  0     0    0     0    0     0      0      0 --:--:-- --:--:-- --:--:--     0"
     ]
    },
    {
     "name": "stdout",
     "output_type": "stream",
     "text": [
      "Saved output to /Users/dhruvjatkar/Desktop/cs3200_project/iNF517.xml\n"
     ]
    },
    {
     "name": "stderr",
     "output_type": "stream",
     "text": [
      "100 4576k  100 4576k    0     0  1257k      0  0:00:03  0:00:03 --:--:-- 1261k\n",
      "  % Total    % Received % Xferd  Average Speed   Time    Time     Time  Current\n",
      "                                 Dload  Upload   Total   Spent    Left  Speed\n",
      "  0     0    0     0    0     0      0      0 --:--:-- --:--:-- --:--:--     0"
     ]
    },
    {
     "name": "stdout",
     "output_type": "stream",
     "text": [
      "Saved output to /Users/dhruvjatkar/Desktop/cs3200_project/iNJ661.xml\n"
     ]
    },
    {
     "name": "stderr",
     "output_type": "stream",
     "text": [
      "100 10.0M  100 10.0M    0     0  1791k      0  0:00:05  0:00:05 --:--:-- 2363k\n",
      "  % Total    % Received % Xferd  Average Speed   Time    Time     Time  Current\n",
      "                                 Dload  Upload   Total   Spent    Left  Speed\n",
      "  0     0    0     0    0     0      0      0 --:--:-- --:--:-- --:--:--     0"
     ]
    },
    {
     "name": "stdout",
     "output_type": "stream",
     "text": [
      "Saved output to /Users/dhruvjatkar/Desktop/cs3200_project/iNRG857_1313.xml\n"
     ]
    },
    {
     "name": "stderr",
     "output_type": "stream",
     "text": [
      "100 8087k  100 8087k    0     0  1991k      0  0:00:04  0:00:04 --:--:-- 1994k\n",
      "  % Total    % Received % Xferd  Average Speed   Time    Time     Time  Current\n",
      "                                 Dload  Upload   Total   Spent    Left  Speed\n",
      "  0     0    0     0    0     0      0      0 --:--:-- --:--:-- --:--:--     0"
     ]
    },
    {
     "name": "stdout",
     "output_type": "stream",
     "text": [
      "Saved output to /Users/dhruvjatkar/Desktop/cs3200_project/iPC815.xml\n"
     ]
    },
    {
     "name": "stderr",
     "output_type": "stream",
     "text": [
      "100 9547k  100 9547k    0     0  2551k      0  0:00:03  0:00:03 --:--:-- 2555k\n",
      "  % Total    % Received % Xferd  Average Speed   Time    Time     Time  Current\n",
      "                                 Dload  Upload   Total   Spent    Left  Speed\n",
      "  0     0    0     0    0     0      0      0 --:--:-- --:--:-- --:--:--     0"
     ]
    },
    {
     "name": "stdout",
     "output_type": "stream",
     "text": [
      "Saved output to /Users/dhruvjatkar/Desktop/cs3200_project/iRC1080.xml\n"
     ]
    },
    {
     "name": "stderr",
     "output_type": "stream",
     "text": [
      "100 9995k  100 9995k    0     0  1467k      0  0:00:06  0:00:06 --:--:-- 2045k\n"
     ]
    },
    {
     "name": "stdout",
     "output_type": "stream",
     "text": [
      "Saved output to /Users/dhruvjatkar/Desktop/cs3200_project/iS_1188.xml\n"
     ]
    },
    {
     "name": "stderr",
     "output_type": "stream",
     "text": [
      "  % Total    % Received % Xferd  Average Speed   Time    Time     Time  Current\n",
      "                                 Dload  Upload   Total   Spent    Left  Speed\n",
      "100 3840k  100 3840k    0     0   729k      0  0:00:05  0:00:05 --:--:--  850k\n",
      "  % Total    % Received % Xferd  Average Speed   Time    Time     Time  Current\n",
      "                                 Dload  Upload   Total   Spent    Left  Speed\n",
      "  0     0    0     0    0     0      0      0 --:--:-- --:--:-- --:--:--     0"
     ]
    },
    {
     "name": "stdout",
     "output_type": "stream",
     "text": [
      "Saved output to /Users/dhruvjatkar/Desktop/cs3200_project/iSB619.xml\n"
     ]
    },
    {
     "name": "stderr",
     "output_type": "stream",
     "text": [
      "100 9860k  100 9860k    0     0  1521k      0  0:00:06  0:00:06 --:--:-- 2000k\n",
      "  % Total    % Received % Xferd  Average Speed   Time    Time     Time  Current\n",
      "                                 Dload  Upload   Total   Spent    Left  Speed\n",
      "  0     0    0     0    0     0      0      0 --:--:-- --:--:-- --:--:--     0"
     ]
    },
    {
     "name": "stdout",
     "output_type": "stream",
     "text": [
      "Saved output to /Users/dhruvjatkar/Desktop/cs3200_project/iSbBS512_1146.xml\n"
     ]
    },
    {
     "name": "stderr",
     "output_type": "stream",
     "text": [
      "100 9792k  100 9792k    0     0  2095k      0  0:00:04  0:00:04 --:--:-- 2099k\n",
      "  % Total    % Received % Xferd  Average Speed   Time    Time     Time  Current\n",
      "                                 Dload  Upload   Total   Spent    Left  Speed\n",
      "  0     0    0     0    0     0      0      0 --:--:-- --:--:-- --:--:--     0"
     ]
    },
    {
     "name": "stdout",
     "output_type": "stream",
     "text": [
      "Saved output to /Users/dhruvjatkar/Desktop/cs3200_project/iSBO_1134.xml\n"
     ]
    },
    {
     "name": "stderr",
     "output_type": "stream",
     "text": [
      "100 9535k  100 9535k    0     0  1850k      0  0:00:05  0:00:05 --:--:-- 2229k\n",
      "  % Total    % Received % Xferd  Average Speed   Time    Time     Time  Current\n",
      "                                 Dload  Upload   Total   Spent    Left  Speed\n",
      "  0     0    0     0    0     0      0      0 --:--:-- --:--:-- --:--:--     0"
     ]
    },
    {
     "name": "stdout",
     "output_type": "stream",
     "text": [
      "Saved output to /Users/dhruvjatkar/Desktop/cs3200_project/iSDY_1059.xml\n"
     ]
    },
    {
     "name": "stderr",
     "output_type": "stream",
     "text": [
      "100 9925k  100 9925k    0     0  1927k      0  0:00:05  0:00:05 --:--:-- 2243k\n",
      "  % Total    % Received % Xferd  Average Speed   Time    Time     Time  Current\n",
      "                                 Dload  Upload   Total   Spent    Left  Speed\n",
      "  0     0    0     0    0     0      0      0 --:--:-- --:--:-- --:--:--     0"
     ]
    },
    {
     "name": "stdout",
     "output_type": "stream",
     "text": [
      "Saved output to /Users/dhruvjatkar/Desktop/cs3200_project/iSF_1195.xml\n"
     ]
    },
    {
     "name": "stderr",
     "output_type": "stream",
     "text": [
      "100 9926k  100 9926k    0     0   996k      0  0:00:09  0:00:09 --:--:-- 1047k\n",
      "  % Total    % Received % Xferd  Average Speed   Time    Time     Time  Current\n",
      "                                 Dload  Upload   Total   Spent    Left  Speed\n",
      "  0     0    0     0    0     0      0      0 --:--:-- --:--:-- --:--:--     0"
     ]
    },
    {
     "name": "stdout",
     "output_type": "stream",
     "text": [
      "Saved output to /Users/dhruvjatkar/Desktop/cs3200_project/iSFV_1184.xml\n"
     ]
    },
    {
     "name": "stderr",
     "output_type": "stream",
     "text": [
      "100 9955k  100 9955k    0     0  1364k      0  0:00:07  0:00:07 --:--:-- 1866k\n",
      "  % Total    % Received % Xferd  Average Speed   Time    Time     Time  Current\n",
      "                                 Dload  Upload   Total   Spent    Left  Speed\n",
      "  0     0    0     0    0     0      0      0 --:--:-- --:--:-- --:--:--     0"
     ]
    },
    {
     "name": "stdout",
     "output_type": "stream",
     "text": [
      "Saved output to /Users/dhruvjatkar/Desktop/cs3200_project/iSFxv_1172.xml\n"
     ]
    },
    {
     "name": "stderr",
     "output_type": "stream",
     "text": [
      "100 10.0M  100 10.0M    0     0  1772k      0  0:00:05  0:00:05 --:--:-- 2364k\n",
      "  % Total    % Received % Xferd  Average Speed   Time    Time     Time  Current\n",
      "                                 Dload  Upload   Total   Spent    Left  Speed\n",
      "  0     0    0     0    0     0      0      0 --:--:-- --:--:-- --:--:--     0"
     ]
    },
    {
     "name": "stdout",
     "output_type": "stream",
     "text": [
      "Saved output to /Users/dhruvjatkar/Desktop/cs3200_project/iSSON_1240.xml\n"
     ]
    },
    {
     "name": "stderr",
     "output_type": "stream",
     "text": [
      "100 4838k  100 4838k    0     0   859k      0  0:00:05  0:00:05 --:--:-- 1014k\n",
      "  % Total    % Received % Xferd  Average Speed   Time    Time     Time  Current\n",
      "                                 Dload  Upload   Total   Spent    Left  Speed\n",
      "  0     0    0     0    0     0      0      0 --:--:-- --:--:-- --:--:--     0"
     ]
    },
    {
     "name": "stdout",
     "output_type": "stream",
     "text": [
      "Saved output to /Users/dhruvjatkar/Desktop/cs3200_project/iSynCJ816.xml\n"
     ]
    },
    {
     "name": "stderr",
     "output_type": "stream",
     "text": [
      "100 10.0M  100 10.0M    0     0  1107k      0  0:00:09  0:00:09 --:--:-- 1461k\n",
      "  % Total    % Received % Xferd  Average Speed   Time    Time     Time  Current\n",
      "                                 Dload  Upload   Total   Spent    Left  Speed\n",
      "  0     0    0     0    0     0      0      0 --:--:-- --:--:-- --:--:--     0"
     ]
    },
    {
     "name": "stdout",
     "output_type": "stream",
     "text": [
      "Saved output to /Users/dhruvjatkar/Desktop/cs3200_project/iUMN146_1321.xml\n"
     ]
    },
    {
     "name": "stderr",
     "output_type": "stream",
     "text": [
      "100 10.2M  100 10.2M    0     0  1971k      0  0:00:05  0:00:05 --:--:-- 2488k\n",
      "  % Total    % Received % Xferd  Average Speed   Time    Time     Time  Current\n",
      "                                 Dload  Upload   Total   Spent    Left  Speed\n",
      "  0     0    0     0    0     0      0      0 --:--:-- --:--:-- --:--:--     0"
     ]
    },
    {
     "name": "stdout",
     "output_type": "stream",
     "text": [
      "Saved output to /Users/dhruvjatkar/Desktop/cs3200_project/iUMNK88_1353.xml\n"
     ]
    },
    {
     "name": "stderr",
     "output_type": "stream",
     "text": [
      "100 10.0M  100 10.0M    0     0  1520k      0  0:00:06  0:00:06 --:--:-- 1844k\n",
      "  % Total    % Received % Xferd  Average Speed   Time    Time     Time  Current\n",
      "                                 Dload  Upload   Total   Spent    Left  Speed\n",
      "  0     0    0     0    0     0      0      0 --:--:-- --:--:-- --:--:--     0"
     ]
    },
    {
     "name": "stdout",
     "output_type": "stream",
     "text": [
      "Saved output to /Users/dhruvjatkar/Desktop/cs3200_project/iUTI89_1310.xml\n"
     ]
    },
    {
     "name": "stderr",
     "output_type": "stream",
     "text": [
      "100 10.2M  100 10.2M    0     0  1850k      0  0:00:05  0:00:05 --:--:-- 2275k\n",
      "  % Total    % Received % Xferd  Average Speed   Time    Time     Time  Current\n",
      "                                 Dload  Upload   Total   Spent    Left  Speed\n",
      "  0     0    0     0    0     0      0      0 --:--:-- --:--:-- --:--:--     0"
     ]
    },
    {
     "name": "stdout",
     "output_type": "stream",
     "text": [
      "Saved output to /Users/dhruvjatkar/Desktop/cs3200_project/iWFL_1372.xml\n"
     ]
    },
    {
     "name": "stderr",
     "output_type": "stream",
     "text": [
      "100 10.4M  100 10.4M    0     0  1872k      0  0:00:05  0:00:05 --:--:-- 2249k\n",
      "  % Total    % Received % Xferd  Average Speed   Time    Time     Time  Current\n",
      "                                 Dload  Upload   Total   Spent    Left  Speed\n",
      "  0     0    0     0    0     0      0      0 --:--:-- --:--:-- --:--:--     0"
     ]
    },
    {
     "name": "stdout",
     "output_type": "stream",
     "text": [
      "Saved output to /Users/dhruvjatkar/Desktop/cs3200_project/iY75_1357.xml\n"
     ]
    },
    {
     "name": "stderr",
     "output_type": "stream",
     "text": [
      "100 8986k  100 8986k    0     0  2238k      0  0:00:04  0:00:04 --:--:-- 2242k\n",
      "  % Total    % Received % Xferd  Average Speed   Time    Time     Time  Current\n",
      "                                 Dload  Upload   Total   Spent    Left  Speed\n",
      "  0     0    0     0    0     0      0      0 --:--:-- --:--:-- --:--:--     0"
     ]
    },
    {
     "name": "stdout",
     "output_type": "stream",
     "text": [
      "Saved output to /Users/dhruvjatkar/Desktop/cs3200_project/iYL1228.xml\n"
     ]
    },
    {
     "name": "stderr",
     "output_type": "stream",
     "text": [
      "100 6062k  100 6062k    0     0  2186k      0  0:00:02  0:00:02 --:--:-- 2191k\n",
      "  % Total    % Received % Xferd  Average Speed   Time    Time     Time  Current\n",
      "                                 Dload  Upload   Total   Spent    Left  Speed\n",
      "  0     0    0     0    0     0      0      0 --:--:-- --:--:-- --:--:--     0"
     ]
    },
    {
     "name": "stdout",
     "output_type": "stream",
     "text": [
      "Saved output to /Users/dhruvjatkar/Desktop/cs3200_project/iYO844.xml\n"
     ]
    },
    {
     "name": "stderr",
     "output_type": "stream",
     "text": [
      "100 11.4M  100 11.4M    0     0  1767k      0  0:00:06  0:00:06 --:--:-- 2148k\n",
      "  % Total    % Received % Xferd  Average Speed   Time    Time     Time  Current\n",
      "                                 Dload  Upload   Total   Spent    Left  Speed\n",
      "  0     0    0     0    0     0      0      0 --:--:-- --:--:-- --:--:--     0"
     ]
    },
    {
     "name": "stdout",
     "output_type": "stream",
     "text": [
      "Saved output to /Users/dhruvjatkar/Desktop/cs3200_project/iYS1720.xml\n"
     ]
    },
    {
     "name": "stderr",
     "output_type": "stream",
     "text": [
      "100 6126k  100 6126k    0     0  1513k      0  0:00:04  0:00:04 --:--:-- 1516k\n",
      "  % Total    % Received % Xferd  Average Speed   Time    Time     Time  Current\n",
      "                                 Dload  Upload   Total   Spent    Left  Speed\n",
      "  0     0    0     0    0     0      0      0 --:--:-- --:--:-- --:--:--     0"
     ]
    },
    {
     "name": "stdout",
     "output_type": "stream",
     "text": [
      "Saved output to /Users/dhruvjatkar/Desktop/cs3200_project/iYS854.xml\n"
     ]
    },
    {
     "name": "stderr",
     "output_type": "stream",
     "text": [
      "100  9.9M  100  9.9M    0     0  1769k      0  0:00:05  0:00:05 --:--:-- 2075k\n",
      "  % Total    % Received % Xferd  Average Speed   Time    Time     Time  Current\n",
      "                                 Dload  Upload   Total   Spent    Left  Speed\n",
      "  0     0    0     0    0     0      0      0 --:--:-- --:--:-- --:--:--     0"
     ]
    },
    {
     "name": "stdout",
     "output_type": "stream",
     "text": [
      "Saved output to /Users/dhruvjatkar/Desktop/cs3200_project/iZ_1308.xml\n"
     ]
    },
    {
     "name": "stderr",
     "output_type": "stream",
     "text": [
      "100 14.4M  100 14.4M    0     0  1782k      0  0:00:08  0:00:08 --:--:-- 2727k\n"
     ]
    },
    {
     "name": "stdout",
     "output_type": "stream",
     "text": [
      "Saved output to /Users/dhruvjatkar/Desktop/cs3200_project/RECON1.xml\n"
     ]
    },
    {
     "name": "stderr",
     "output_type": "stream",
     "text": [
      "  % Total    % Received % Xferd  Average Speed   Time    Time     Time  Current\n",
      "                                 Dload  Upload   Total   Spent    Left  Speed\n",
      "100 27.2M  100 27.2M    0     0  2515k      0  0:00:11  0:00:11 --:--:-- 2645k\n",
      "  % Total    % Received % Xferd  Average Speed   Time    Time     Time  Current\n",
      "                                 Dload  Upload   Total   Spent    Left  Speed\n",
      "  0     0    0     0    0     0      0      0 --:--:-- --:--:-- --:--:--     0"
     ]
    },
    {
     "name": "stdout",
     "output_type": "stream",
     "text": [
      "Saved output to /Users/dhruvjatkar/Desktop/cs3200_project/Recon3D.xml\n"
     ]
    },
    {
     "name": "stderr",
     "output_type": "stream",
     "text": [
      " 64 9603k   64 6149k    0     0  1958k      0  0:00:04  0:00:03  0:00:01 1960k"
     ]
    },
    {
     "name": "stdout",
     "output_type": "stream",
     "text": [
      "Saved output to /Users/dhruvjatkar/Desktop/cs3200_project/STM_v1_0.xml\n"
     ]
    },
    {
     "name": "stderr",
     "output_type": "stream",
     "text": [
      "100 9603k  100 9603k    0     0  2295k      0  0:00:04  0:00:04 --:--:-- 2417k\n"
     ]
    }
   ],
   "source": [
    "import os\n",
    "current_dir = os.getcwd()\n",
    "\n",
    "for model_id in bigg_ids:\n",
    "    result = subprocess.run(\n",
    "        [\"curl\", f\"http://bigg.ucsd.edu/static/models/{model_id}.xml\"],\n",
    "        stdout=subprocess.PIPE,\n",
    "        check=True\n",
    "    )\n",
    "    xml_output = result.stdout.decode(\"utf-8\")\n",
    "    file_path = os.path.join(current_dir, f\"{model_id}.xml\")\n",
    "    with open(file_path, \"w\", encoding=\"utf-8\") as f:\n",
    "        f.write(xml_output)\n",
    "    print(f\"Saved output to {file_path}\")"
   ]
  },
  {
   "cell_type": "code",
   "execution_count": 27,
   "id": "95679f79",
   "metadata": {},
   "outputs": [],
   "source": [
    "import reframed\n",
    "import pandas as pd"
   ]
  },
  {
   "cell_type": "code",
   "execution_count": null,
   "id": "73feddc9",
   "metadata": {},
   "outputs": [],
   "source": [
    "models = {}\n",
    "for model_id in bigg_ids:\n",
    "    try:\n",
    "        model = reframed.load_cbmodel(f\"{model_id}.xml\")\n",
    "        models[model_id] = model\n",
    "    except:\n",
    "        print(f\"{model_id} is not well formed\")"
   ]
  },
  {
   "cell_type": "code",
   "execution_count": null,
   "id": "6ee9e43d-feb2-4765-8714-b35d1df0290d",
   "metadata": {},
   "outputs": [],
   "source": [
    "print(type(model))"
   ]
  },
  {
   "cell_type": "code",
   "execution_count": 17,
   "id": "da989141",
   "metadata": {},
   "outputs": [
    {
     "name": "stdout",
     "output_type": "stream",
     "text": [
      "Reactions DataFrame:\n",
      "      id                           name lower_bound upper_bound  \\\n",
      "0  R_PFK            Phosphofructokinase        None        None   \n",
      "1  R_PFL         Pyruvate formate lyase        None        None   \n",
      "2  R_PGI  Glucose-6-phosphate isomerase        None        None   \n",
      "3  R_PGK        Phosphoglycerate kinase        None        None   \n",
      "4  R_PGL      6-phosphogluconolactonase        None        None   \n",
      "\n",
      "                                       stoichiometry  objective_coefficient  \n",
      "0  {'M_atp_c': -1.0, 'M_f6p_c': -1.0, 'M_adp_c': ...                      0  \n",
      "1  {'M_coa_c': -1.0, 'M_pyr_c': -1.0, 'M_accoa_c'...                      0  \n",
      "2                  {'M_g6p_c': -1.0, 'M_f6p_c': 1.0}                      0  \n",
      "3  {'M_3pg_c': -1.0, 'M_atp_c': -1.0, 'M_13dpg_c'...                      0  \n",
      "4  {'M_6pgl_c': -1.0, 'M_h2o_c': -1.0, 'M_6pgc_c'...                      0  \n",
      "\n",
      "Metabolites DataFrame:\n",
      "           id         name formula charge\n",
      "0  M_glc__D_e    D-Glucose    None   None\n",
      "1  M_gln__L_c  L-Glutamine    None   None\n",
      "2  M_gln__L_e  L-Glutamine    None   None\n",
      "3  M_glu__L_c  L-Glutamate    None   None\n",
      "4  M_glu__L_e  L-Glutamate    None   None\n",
      "\n",
      "Genes DataFrame:\n",
      "        id   name associated_reactions\n",
      "0  G_b1241   adhE                   []\n",
      "1  G_b0351   mhpF                   []\n",
      "2  G_s0001  s0001                   []\n",
      "3  G_b1849   purT                   []\n",
      "4  G_b3115   tdcD                   []\n"
     ]
    }
   ],
   "source": [
    "reactions_data = []\n",
    "for rxn in model.reactions.values():\n",
    "    reactions_data.append({\n",
    "        'id': rxn.id,\n",
    "        'name': getattr(rxn, 'name', ''),\n",
    "        'lower_bound': getattr(rxn, 'lower_bound', None),\n",
    "        'upper_bound': getattr(rxn, 'upper_bound', None),\n",
    "        'stoichiometry': getattr(rxn, 'stoichiometry', {}),  # typically a dict mapping metabolite IDs to coefficients\n",
    "        'objective_coefficient': getattr(rxn, 'objective_coefficient', 0)\n",
    "    })\n",
    "\n",
    "\n",
    "metabolites_data = []\n",
    "for met in model.metabolites.values():\n",
    "    metabolites_data.append({\n",
    "        'id': met.id,\n",
    "        'name': getattr(met, 'name', ''),\n",
    "        'formula': getattr(met, 'formula', None),\n",
    "        'charge': getattr(met, 'charge', None)\n",
    "    })\n",
    "\n",
    "\n",
    "genes_data = []\n",
    "for gene in model.genes.values():\n",
    "\n",
    "    associated_reactions = getattr(gene, 'reactions', [])\n",
    "    genes_data.append({\n",
    "        'id': gene.id,\n",
    "        'name': getattr(gene, 'name', ''),\n",
    "        'associated_reactions': associated_reactions  \n",
    "    })\n",
    "\n",
    "\n",
    "df_reactions = pd.DataFrame(reactions_data)\n",
    "df_metabolites = pd.DataFrame(metabolites_data)\n",
    "df_genes = pd.DataFrame(genes_data)\n",
    "\n",
    "\n",
    "print(\"Reactions DataFrame:\")\n",
    "print(df_reactions.head())\n",
    "print(\"\\nMetabolites DataFrame:\")\n",
    "print(df_metabolites.head())\n",
    "print(\"\\nGenes DataFrame:\")\n",
    "print(df_genes.head())"
   ]
  },
  {
   "cell_type": "code",
   "execution_count": null,
   "id": "2d1011d9",
   "metadata": {},
   "outputs": [],
   "source": []
  },
  {
   "cell_type": "code",
   "execution_count": null,
   "id": "e130e84c",
   "metadata": {},
   "outputs": [],
   "source": []
  },
  {
   "cell_type": "code",
   "execution_count": null,
   "id": "3884ac1c",
   "metadata": {},
   "outputs": [],
   "source": []
  },
  {
   "cell_type": "code",
   "execution_count": null,
   "id": "8fd4caaf",
   "metadata": {},
   "outputs": [],
   "source": []
  },
  {
   "cell_type": "code",
   "execution_count": null,
   "id": "2f3ab98c",
   "metadata": {},
   "outputs": [],
   "source": []
  },
  {
   "cell_type": "code",
   "execution_count": null,
   "id": "6a6477f1",
   "metadata": {},
   "outputs": [],
   "source": []
  },
  {
   "cell_type": "code",
   "execution_count": null,
   "id": "989283e4",
   "metadata": {},
   "outputs": [],
   "source": []
  },
  {
   "cell_type": "code",
   "execution_count": null,
   "id": "442c3839",
   "metadata": {},
   "outputs": [],
   "source": []
  },
  {
   "cell_type": "code",
   "execution_count": null,
   "id": "1d2f4397",
   "metadata": {},
   "outputs": [],
   "source": []
  },
  {
   "cell_type": "code",
   "execution_count": null,
   "id": "37c5665b",
   "metadata": {},
   "outputs": [],
   "source": []
  }
 ],
 "metadata": {
  "kernelspec": {
   "display_name": "Python 3 (ipykernel)",
   "language": "python",
   "name": "python3"
  },
  "language_info": {
   "codemirror_mode": {
    "name": "ipython",
    "version": 3
   },
   "file_extension": ".py",
   "mimetype": "text/x-python",
   "name": "python",
   "nbconvert_exporter": "python",
   "pygments_lexer": "ipython3",
   "version": "3.10.9"
  }
 },
 "nbformat": 4,
 "nbformat_minor": 5
}
